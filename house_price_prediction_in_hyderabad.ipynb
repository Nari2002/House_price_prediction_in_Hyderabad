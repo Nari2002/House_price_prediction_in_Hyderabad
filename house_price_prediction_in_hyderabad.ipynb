{
 "cells": [
  {
   "cell_type": "markdown",
   "id": "7d390d59",
   "metadata": {},
   "source": [
    "# House price prediction in Hyderabad"
   ]
  },
  {
   "cell_type": "code",
   "execution_count": 1,
   "id": "18351ea2",
   "metadata": {},
   "outputs": [],
   "source": [
    "import pandas as pd\n",
    "import numpy as np\n",
    "import seaborn as sns\n",
    "import matplotlib.pyplot as plt\n",
    "import warnings\n",
    "warnings.filterwarnings('ignore')"
   ]
  },
  {
   "cell_type": "code",
   "execution_count": 2,
   "id": "12366ddd",
   "metadata": {},
   "outputs": [],
   "source": [
    "data = pd.read_csv(\"C:/Users/soppoju narender/Desktop/Hyderabad.csv\")"
   ]
  },
  {
   "cell_type": "code",
   "execution_count": 3,
   "id": "534b984f",
   "metadata": {},
   "outputs": [
    {
     "data": {
      "text/html": [
       "<div>\n",
       "<style scoped>\n",
       "    .dataframe tbody tr th:only-of-type {\n",
       "        vertical-align: middle;\n",
       "    }\n",
       "\n",
       "    .dataframe tbody tr th {\n",
       "        vertical-align: top;\n",
       "    }\n",
       "\n",
       "    .dataframe thead th {\n",
       "        text-align: right;\n",
       "    }\n",
       "</style>\n",
       "<table border=\"1\" class=\"dataframe\">\n",
       "  <thead>\n",
       "    <tr style=\"text-align: right;\">\n",
       "      <th></th>\n",
       "      <th>Price</th>\n",
       "      <th>Area</th>\n",
       "      <th>Location</th>\n",
       "      <th>No. of Bedrooms</th>\n",
       "      <th>Resale</th>\n",
       "      <th>MaintenanceStaff</th>\n",
       "      <th>Gymnasium</th>\n",
       "      <th>SwimmingPool</th>\n",
       "      <th>LandscapedGardens</th>\n",
       "      <th>JoggingTrack</th>\n",
       "      <th>...</th>\n",
       "      <th>LiftAvailable</th>\n",
       "      <th>BED</th>\n",
       "      <th>VaastuCompliant</th>\n",
       "      <th>Microwave</th>\n",
       "      <th>GolfCourse</th>\n",
       "      <th>TV</th>\n",
       "      <th>DiningTable</th>\n",
       "      <th>Sofa</th>\n",
       "      <th>Wardrobe</th>\n",
       "      <th>Refrigerator</th>\n",
       "    </tr>\n",
       "  </thead>\n",
       "  <tbody>\n",
       "    <tr>\n",
       "      <th>0</th>\n",
       "      <td>6968000</td>\n",
       "      <td>1340</td>\n",
       "      <td>Nizampet</td>\n",
       "      <td>2</td>\n",
       "      <td>0</td>\n",
       "      <td>0</td>\n",
       "      <td>1</td>\n",
       "      <td>1</td>\n",
       "      <td>1</td>\n",
       "      <td>1</td>\n",
       "      <td>...</td>\n",
       "      <td>1</td>\n",
       "      <td>0</td>\n",
       "      <td>1</td>\n",
       "      <td>0</td>\n",
       "      <td>0</td>\n",
       "      <td>0</td>\n",
       "      <td>0</td>\n",
       "      <td>0</td>\n",
       "      <td>0</td>\n",
       "      <td>0</td>\n",
       "    </tr>\n",
       "    <tr>\n",
       "      <th>1</th>\n",
       "      <td>29000000</td>\n",
       "      <td>3498</td>\n",
       "      <td>Hitech City</td>\n",
       "      <td>4</td>\n",
       "      <td>0</td>\n",
       "      <td>0</td>\n",
       "      <td>1</td>\n",
       "      <td>1</td>\n",
       "      <td>1</td>\n",
       "      <td>1</td>\n",
       "      <td>...</td>\n",
       "      <td>1</td>\n",
       "      <td>0</td>\n",
       "      <td>1</td>\n",
       "      <td>0</td>\n",
       "      <td>0</td>\n",
       "      <td>0</td>\n",
       "      <td>0</td>\n",
       "      <td>0</td>\n",
       "      <td>0</td>\n",
       "      <td>0</td>\n",
       "    </tr>\n",
       "    <tr>\n",
       "      <th>2</th>\n",
       "      <td>6590000</td>\n",
       "      <td>1318</td>\n",
       "      <td>Manikonda</td>\n",
       "      <td>2</td>\n",
       "      <td>0</td>\n",
       "      <td>0</td>\n",
       "      <td>1</td>\n",
       "      <td>0</td>\n",
       "      <td>0</td>\n",
       "      <td>0</td>\n",
       "      <td>...</td>\n",
       "      <td>0</td>\n",
       "      <td>0</td>\n",
       "      <td>0</td>\n",
       "      <td>0</td>\n",
       "      <td>0</td>\n",
       "      <td>0</td>\n",
       "      <td>0</td>\n",
       "      <td>0</td>\n",
       "      <td>0</td>\n",
       "      <td>0</td>\n",
       "    </tr>\n",
       "    <tr>\n",
       "      <th>3</th>\n",
       "      <td>5739000</td>\n",
       "      <td>1295</td>\n",
       "      <td>Alwal</td>\n",
       "      <td>3</td>\n",
       "      <td>1</td>\n",
       "      <td>0</td>\n",
       "      <td>0</td>\n",
       "      <td>0</td>\n",
       "      <td>0</td>\n",
       "      <td>0</td>\n",
       "      <td>...</td>\n",
       "      <td>1</td>\n",
       "      <td>0</td>\n",
       "      <td>0</td>\n",
       "      <td>0</td>\n",
       "      <td>0</td>\n",
       "      <td>0</td>\n",
       "      <td>0</td>\n",
       "      <td>0</td>\n",
       "      <td>0</td>\n",
       "      <td>0</td>\n",
       "    </tr>\n",
       "    <tr>\n",
       "      <th>4</th>\n",
       "      <td>5679000</td>\n",
       "      <td>1145</td>\n",
       "      <td>Kukatpally</td>\n",
       "      <td>2</td>\n",
       "      <td>0</td>\n",
       "      <td>0</td>\n",
       "      <td>0</td>\n",
       "      <td>0</td>\n",
       "      <td>1</td>\n",
       "      <td>0</td>\n",
       "      <td>...</td>\n",
       "      <td>1</td>\n",
       "      <td>0</td>\n",
       "      <td>0</td>\n",
       "      <td>0</td>\n",
       "      <td>0</td>\n",
       "      <td>0</td>\n",
       "      <td>0</td>\n",
       "      <td>0</td>\n",
       "      <td>0</td>\n",
       "      <td>0</td>\n",
       "    </tr>\n",
       "    <tr>\n",
       "      <th>5</th>\n",
       "      <td>6099000</td>\n",
       "      <td>1230</td>\n",
       "      <td>Nizampet</td>\n",
       "      <td>2</td>\n",
       "      <td>0</td>\n",
       "      <td>0</td>\n",
       "      <td>0</td>\n",
       "      <td>0</td>\n",
       "      <td>0</td>\n",
       "      <td>0</td>\n",
       "      <td>...</td>\n",
       "      <td>1</td>\n",
       "      <td>0</td>\n",
       "      <td>0</td>\n",
       "      <td>0</td>\n",
       "      <td>0</td>\n",
       "      <td>0</td>\n",
       "      <td>0</td>\n",
       "      <td>0</td>\n",
       "      <td>0</td>\n",
       "      <td>0</td>\n",
       "    </tr>\n",
       "    <tr>\n",
       "      <th>6</th>\n",
       "      <td>7000000</td>\n",
       "      <td>1350</td>\n",
       "      <td>Manikonda</td>\n",
       "      <td>2</td>\n",
       "      <td>0</td>\n",
       "      <td>0</td>\n",
       "      <td>0</td>\n",
       "      <td>0</td>\n",
       "      <td>0</td>\n",
       "      <td>0</td>\n",
       "      <td>...</td>\n",
       "      <td>1</td>\n",
       "      <td>0</td>\n",
       "      <td>0</td>\n",
       "      <td>0</td>\n",
       "      <td>0</td>\n",
       "      <td>0</td>\n",
       "      <td>0</td>\n",
       "      <td>0</td>\n",
       "      <td>0</td>\n",
       "      <td>0</td>\n",
       "    </tr>\n",
       "    <tr>\n",
       "      <th>7</th>\n",
       "      <td>4198000</td>\n",
       "      <td>1400</td>\n",
       "      <td>Gachibowli</td>\n",
       "      <td>3</td>\n",
       "      <td>0</td>\n",
       "      <td>0</td>\n",
       "      <td>1</td>\n",
       "      <td>1</td>\n",
       "      <td>0</td>\n",
       "      <td>0</td>\n",
       "      <td>...</td>\n",
       "      <td>1</td>\n",
       "      <td>0</td>\n",
       "      <td>0</td>\n",
       "      <td>0</td>\n",
       "      <td>0</td>\n",
       "      <td>0</td>\n",
       "      <td>0</td>\n",
       "      <td>0</td>\n",
       "      <td>0</td>\n",
       "      <td>0</td>\n",
       "    </tr>\n",
       "    <tr>\n",
       "      <th>8</th>\n",
       "      <td>9900000</td>\n",
       "      <td>2240</td>\n",
       "      <td>Tellapur</td>\n",
       "      <td>3</td>\n",
       "      <td>0</td>\n",
       "      <td>0</td>\n",
       "      <td>1</td>\n",
       "      <td>1</td>\n",
       "      <td>0</td>\n",
       "      <td>0</td>\n",
       "      <td>...</td>\n",
       "      <td>0</td>\n",
       "      <td>0</td>\n",
       "      <td>0</td>\n",
       "      <td>0</td>\n",
       "      <td>0</td>\n",
       "      <td>0</td>\n",
       "      <td>0</td>\n",
       "      <td>0</td>\n",
       "      <td>0</td>\n",
       "      <td>0</td>\n",
       "    </tr>\n",
       "    <tr>\n",
       "      <th>9</th>\n",
       "      <td>9800000</td>\n",
       "      <td>1520</td>\n",
       "      <td>Gachibowli</td>\n",
       "      <td>2</td>\n",
       "      <td>1</td>\n",
       "      <td>0</td>\n",
       "      <td>0</td>\n",
       "      <td>0</td>\n",
       "      <td>0</td>\n",
       "      <td>0</td>\n",
       "      <td>...</td>\n",
       "      <td>1</td>\n",
       "      <td>0</td>\n",
       "      <td>0</td>\n",
       "      <td>0</td>\n",
       "      <td>0</td>\n",
       "      <td>0</td>\n",
       "      <td>0</td>\n",
       "      <td>0</td>\n",
       "      <td>0</td>\n",
       "      <td>0</td>\n",
       "    </tr>\n",
       "  </tbody>\n",
       "</table>\n",
       "<p>10 rows × 40 columns</p>\n",
       "</div>"
      ],
      "text/plain": [
       "      Price  Area     Location  No. of Bedrooms  Resale  MaintenanceStaff  \\\n",
       "0   6968000  1340     Nizampet                2       0                 0   \n",
       "1  29000000  3498  Hitech City                4       0                 0   \n",
       "2   6590000  1318    Manikonda                2       0                 0   \n",
       "3   5739000  1295        Alwal                3       1                 0   \n",
       "4   5679000  1145   Kukatpally                2       0                 0   \n",
       "5   6099000  1230     Nizampet                2       0                 0   \n",
       "6   7000000  1350    Manikonda                2       0                 0   \n",
       "7   4198000  1400   Gachibowli                3       0                 0   \n",
       "8   9900000  2240     Tellapur                3       0                 0   \n",
       "9   9800000  1520   Gachibowli                2       1                 0   \n",
       "\n",
       "   Gymnasium  SwimmingPool  LandscapedGardens  JoggingTrack  ...  \\\n",
       "0          1             1                  1             1  ...   \n",
       "1          1             1                  1             1  ...   \n",
       "2          1             0                  0             0  ...   \n",
       "3          0             0                  0             0  ...   \n",
       "4          0             0                  1             0  ...   \n",
       "5          0             0                  0             0  ...   \n",
       "6          0             0                  0             0  ...   \n",
       "7          1             1                  0             0  ...   \n",
       "8          1             1                  0             0  ...   \n",
       "9          0             0                  0             0  ...   \n",
       "\n",
       "   LiftAvailable  BED  VaastuCompliant  Microwave  GolfCourse  TV  \\\n",
       "0              1    0                1          0           0   0   \n",
       "1              1    0                1          0           0   0   \n",
       "2              0    0                0          0           0   0   \n",
       "3              1    0                0          0           0   0   \n",
       "4              1    0                0          0           0   0   \n",
       "5              1    0                0          0           0   0   \n",
       "6              1    0                0          0           0   0   \n",
       "7              1    0                0          0           0   0   \n",
       "8              0    0                0          0           0   0   \n",
       "9              1    0                0          0           0   0   \n",
       "\n",
       "   DiningTable  Sofa  Wardrobe  Refrigerator  \n",
       "0            0     0         0             0  \n",
       "1            0     0         0             0  \n",
       "2            0     0         0             0  \n",
       "3            0     0         0             0  \n",
       "4            0     0         0             0  \n",
       "5            0     0         0             0  \n",
       "6            0     0         0             0  \n",
       "7            0     0         0             0  \n",
       "8            0     0         0             0  \n",
       "9            0     0         0             0  \n",
       "\n",
       "[10 rows x 40 columns]"
      ]
     },
     "execution_count": 3,
     "metadata": {},
     "output_type": "execute_result"
    }
   ],
   "source": [
    "data.head(10)"
   ]
  },
  {
   "cell_type": "code",
   "execution_count": 4,
   "id": "5a296188",
   "metadata": {
    "scrolled": true
   },
   "outputs": [
    {
     "data": {
      "text/plain": [
       "(2518, 40)"
      ]
     },
     "execution_count": 4,
     "metadata": {},
     "output_type": "execute_result"
    }
   ],
   "source": [
    "data.shape"
   ]
  },
  {
   "cell_type": "code",
   "execution_count": 5,
   "id": "45583580",
   "metadata": {
    "scrolled": true
   },
   "outputs": [
    {
     "data": {
      "text/plain": [
       "Index(['Price', 'Area', 'Location', 'No. of Bedrooms', 'Resale',\n",
       "       'MaintenanceStaff', 'Gymnasium', 'SwimmingPool', 'LandscapedGardens',\n",
       "       'JoggingTrack', 'RainWaterHarvesting', 'IndoorGames', 'ShoppingMall',\n",
       "       'Intercom', 'SportsFacility', 'ATM', 'ClubHouse', 'School',\n",
       "       '24X7Security', 'PowerBackup', 'CarParking', 'StaffQuarter',\n",
       "       'Cafeteria', 'MultipurposeRoom', 'Hospital', 'WashingMachine',\n",
       "       'Gasconnection', 'AC', 'Wifi', 'Children'splayarea', 'LiftAvailable',\n",
       "       'BED', 'VaastuCompliant', 'Microwave', 'GolfCourse', 'TV',\n",
       "       'DiningTable', 'Sofa', 'Wardrobe', 'Refrigerator'],\n",
       "      dtype='object')"
      ]
     },
     "execution_count": 5,
     "metadata": {},
     "output_type": "execute_result"
    }
   ],
   "source": [
    "data.columns"
   ]
  },
  {
   "cell_type": "code",
   "execution_count": 6,
   "id": "bc68b982",
   "metadata": {
    "scrolled": true
   },
   "outputs": [
    {
     "data": {
      "text/plain": [
       "Price                  0\n",
       "Area                   0\n",
       "Location               0\n",
       "No. of Bedrooms        0\n",
       "Resale                 0\n",
       "MaintenanceStaff       0\n",
       "Gymnasium              0\n",
       "SwimmingPool           0\n",
       "LandscapedGardens      0\n",
       "JoggingTrack           0\n",
       "RainWaterHarvesting    0\n",
       "IndoorGames            0\n",
       "ShoppingMall           0\n",
       "Intercom               0\n",
       "SportsFacility         0\n",
       "ATM                    0\n",
       "ClubHouse              0\n",
       "School                 0\n",
       "24X7Security           0\n",
       "PowerBackup            0\n",
       "CarParking             0\n",
       "StaffQuarter           0\n",
       "Cafeteria              0\n",
       "MultipurposeRoom       0\n",
       "Hospital               0\n",
       "WashingMachine         0\n",
       "Gasconnection          0\n",
       "AC                     0\n",
       "Wifi                   0\n",
       "Children'splayarea     0\n",
       "LiftAvailable          0\n",
       "BED                    0\n",
       "VaastuCompliant        0\n",
       "Microwave              0\n",
       "GolfCourse             0\n",
       "TV                     0\n",
       "DiningTable            0\n",
       "Sofa                   0\n",
       "Wardrobe               0\n",
       "Refrigerator           0\n",
       "dtype: int64"
      ]
     },
     "execution_count": 6,
     "metadata": {},
     "output_type": "execute_result"
    }
   ],
   "source": [
    "data.isna().sum()"
   ]
  },
  {
   "cell_type": "code",
   "execution_count": 7,
   "id": "cb3e4b34",
   "metadata": {
    "scrolled": true
   },
   "outputs": [
    {
     "data": {
      "text/plain": [
       "520"
      ]
     },
     "execution_count": 7,
     "metadata": {},
     "output_type": "execute_result"
    }
   ],
   "source": [
    "data.duplicated().sum()"
   ]
  },
  {
   "cell_type": "code",
   "execution_count": 8,
   "id": "36446e5b",
   "metadata": {
    "scrolled": false
   },
   "outputs": [
    {
     "data": {
      "text/html": [
       "<div>\n",
       "<style scoped>\n",
       "    .dataframe tbody tr th:only-of-type {\n",
       "        vertical-align: middle;\n",
       "    }\n",
       "\n",
       "    .dataframe tbody tr th {\n",
       "        vertical-align: top;\n",
       "    }\n",
       "\n",
       "    .dataframe thead th {\n",
       "        text-align: right;\n",
       "    }\n",
       "</style>\n",
       "<table border=\"1\" class=\"dataframe\">\n",
       "  <thead>\n",
       "    <tr style=\"text-align: right;\">\n",
       "      <th></th>\n",
       "      <th>Price</th>\n",
       "      <th>Area</th>\n",
       "      <th>Location</th>\n",
       "      <th>No. of Bedrooms</th>\n",
       "      <th>Resale</th>\n",
       "      <th>MaintenanceStaff</th>\n",
       "      <th>Gymnasium</th>\n",
       "      <th>SwimmingPool</th>\n",
       "      <th>LandscapedGardens</th>\n",
       "      <th>JoggingTrack</th>\n",
       "      <th>...</th>\n",
       "      <th>LiftAvailable</th>\n",
       "      <th>BED</th>\n",
       "      <th>VaastuCompliant</th>\n",
       "      <th>Microwave</th>\n",
       "      <th>GolfCourse</th>\n",
       "      <th>TV</th>\n",
       "      <th>DiningTable</th>\n",
       "      <th>Sofa</th>\n",
       "      <th>Wardrobe</th>\n",
       "      <th>Refrigerator</th>\n",
       "    </tr>\n",
       "  </thead>\n",
       "  <tbody>\n",
       "    <tr>\n",
       "      <th>0</th>\n",
       "      <td>6968000</td>\n",
       "      <td>1340</td>\n",
       "      <td>Nizampet</td>\n",
       "      <td>2</td>\n",
       "      <td>0</td>\n",
       "      <td>0</td>\n",
       "      <td>1</td>\n",
       "      <td>1</td>\n",
       "      <td>1</td>\n",
       "      <td>1</td>\n",
       "      <td>...</td>\n",
       "      <td>1</td>\n",
       "      <td>0</td>\n",
       "      <td>1</td>\n",
       "      <td>0</td>\n",
       "      <td>0</td>\n",
       "      <td>0</td>\n",
       "      <td>0</td>\n",
       "      <td>0</td>\n",
       "      <td>0</td>\n",
       "      <td>0</td>\n",
       "    </tr>\n",
       "    <tr>\n",
       "      <th>1</th>\n",
       "      <td>29000000</td>\n",
       "      <td>3498</td>\n",
       "      <td>Hitech City</td>\n",
       "      <td>4</td>\n",
       "      <td>0</td>\n",
       "      <td>0</td>\n",
       "      <td>1</td>\n",
       "      <td>1</td>\n",
       "      <td>1</td>\n",
       "      <td>1</td>\n",
       "      <td>...</td>\n",
       "      <td>1</td>\n",
       "      <td>0</td>\n",
       "      <td>1</td>\n",
       "      <td>0</td>\n",
       "      <td>0</td>\n",
       "      <td>0</td>\n",
       "      <td>0</td>\n",
       "      <td>0</td>\n",
       "      <td>0</td>\n",
       "      <td>0</td>\n",
       "    </tr>\n",
       "    <tr>\n",
       "      <th>2</th>\n",
       "      <td>6590000</td>\n",
       "      <td>1318</td>\n",
       "      <td>Manikonda</td>\n",
       "      <td>2</td>\n",
       "      <td>0</td>\n",
       "      <td>0</td>\n",
       "      <td>1</td>\n",
       "      <td>0</td>\n",
       "      <td>0</td>\n",
       "      <td>0</td>\n",
       "      <td>...</td>\n",
       "      <td>0</td>\n",
       "      <td>0</td>\n",
       "      <td>0</td>\n",
       "      <td>0</td>\n",
       "      <td>0</td>\n",
       "      <td>0</td>\n",
       "      <td>0</td>\n",
       "      <td>0</td>\n",
       "      <td>0</td>\n",
       "      <td>0</td>\n",
       "    </tr>\n",
       "    <tr>\n",
       "      <th>3</th>\n",
       "      <td>5739000</td>\n",
       "      <td>1295</td>\n",
       "      <td>Alwal</td>\n",
       "      <td>3</td>\n",
       "      <td>1</td>\n",
       "      <td>0</td>\n",
       "      <td>0</td>\n",
       "      <td>0</td>\n",
       "      <td>0</td>\n",
       "      <td>0</td>\n",
       "      <td>...</td>\n",
       "      <td>1</td>\n",
       "      <td>0</td>\n",
       "      <td>0</td>\n",
       "      <td>0</td>\n",
       "      <td>0</td>\n",
       "      <td>0</td>\n",
       "      <td>0</td>\n",
       "      <td>0</td>\n",
       "      <td>0</td>\n",
       "      <td>0</td>\n",
       "    </tr>\n",
       "    <tr>\n",
       "      <th>4</th>\n",
       "      <td>5679000</td>\n",
       "      <td>1145</td>\n",
       "      <td>Kukatpally</td>\n",
       "      <td>2</td>\n",
       "      <td>0</td>\n",
       "      <td>0</td>\n",
       "      <td>0</td>\n",
       "      <td>0</td>\n",
       "      <td>1</td>\n",
       "      <td>0</td>\n",
       "      <td>...</td>\n",
       "      <td>1</td>\n",
       "      <td>0</td>\n",
       "      <td>0</td>\n",
       "      <td>0</td>\n",
       "      <td>0</td>\n",
       "      <td>0</td>\n",
       "      <td>0</td>\n",
       "      <td>0</td>\n",
       "      <td>0</td>\n",
       "      <td>0</td>\n",
       "    </tr>\n",
       "    <tr>\n",
       "      <th>...</th>\n",
       "      <td>...</td>\n",
       "      <td>...</td>\n",
       "      <td>...</td>\n",
       "      <td>...</td>\n",
       "      <td>...</td>\n",
       "      <td>...</td>\n",
       "      <td>...</td>\n",
       "      <td>...</td>\n",
       "      <td>...</td>\n",
       "      <td>...</td>\n",
       "      <td>...</td>\n",
       "      <td>...</td>\n",
       "      <td>...</td>\n",
       "      <td>...</td>\n",
       "      <td>...</td>\n",
       "      <td>...</td>\n",
       "      <td>...</td>\n",
       "      <td>...</td>\n",
       "      <td>...</td>\n",
       "      <td>...</td>\n",
       "      <td>...</td>\n",
       "    </tr>\n",
       "    <tr>\n",
       "      <th>2513</th>\n",
       "      <td>11000000</td>\n",
       "      <td>1460</td>\n",
       "      <td>Nacharam</td>\n",
       "      <td>2</td>\n",
       "      <td>1</td>\n",
       "      <td>9</td>\n",
       "      <td>9</td>\n",
       "      <td>9</td>\n",
       "      <td>9</td>\n",
       "      <td>9</td>\n",
       "      <td>...</td>\n",
       "      <td>9</td>\n",
       "      <td>9</td>\n",
       "      <td>9</td>\n",
       "      <td>9</td>\n",
       "      <td>9</td>\n",
       "      <td>9</td>\n",
       "      <td>9</td>\n",
       "      <td>9</td>\n",
       "      <td>9</td>\n",
       "      <td>9</td>\n",
       "    </tr>\n",
       "    <tr>\n",
       "      <th>2514</th>\n",
       "      <td>26000000</td>\n",
       "      <td>1314</td>\n",
       "      <td>Manikonda</td>\n",
       "      <td>2</td>\n",
       "      <td>1</td>\n",
       "      <td>9</td>\n",
       "      <td>9</td>\n",
       "      <td>9</td>\n",
       "      <td>9</td>\n",
       "      <td>9</td>\n",
       "      <td>...</td>\n",
       "      <td>9</td>\n",
       "      <td>9</td>\n",
       "      <td>9</td>\n",
       "      <td>9</td>\n",
       "      <td>9</td>\n",
       "      <td>9</td>\n",
       "      <td>9</td>\n",
       "      <td>9</td>\n",
       "      <td>9</td>\n",
       "      <td>9</td>\n",
       "    </tr>\n",
       "    <tr>\n",
       "      <th>2515</th>\n",
       "      <td>13300000</td>\n",
       "      <td>2625</td>\n",
       "      <td>Madhapur</td>\n",
       "      <td>3</td>\n",
       "      <td>1</td>\n",
       "      <td>9</td>\n",
       "      <td>9</td>\n",
       "      <td>9</td>\n",
       "      <td>9</td>\n",
       "      <td>9</td>\n",
       "      <td>...</td>\n",
       "      <td>9</td>\n",
       "      <td>9</td>\n",
       "      <td>9</td>\n",
       "      <td>9</td>\n",
       "      <td>9</td>\n",
       "      <td>9</td>\n",
       "      <td>9</td>\n",
       "      <td>9</td>\n",
       "      <td>9</td>\n",
       "      <td>9</td>\n",
       "    </tr>\n",
       "    <tr>\n",
       "      <th>2516</th>\n",
       "      <td>10800000</td>\n",
       "      <td>2050</td>\n",
       "      <td>Hitech City</td>\n",
       "      <td>3</td>\n",
       "      <td>0</td>\n",
       "      <td>9</td>\n",
       "      <td>9</td>\n",
       "      <td>9</td>\n",
       "      <td>9</td>\n",
       "      <td>9</td>\n",
       "      <td>...</td>\n",
       "      <td>9</td>\n",
       "      <td>9</td>\n",
       "      <td>9</td>\n",
       "      <td>9</td>\n",
       "      <td>9</td>\n",
       "      <td>9</td>\n",
       "      <td>9</td>\n",
       "      <td>9</td>\n",
       "      <td>9</td>\n",
       "      <td>9</td>\n",
       "    </tr>\n",
       "    <tr>\n",
       "      <th>2517</th>\n",
       "      <td>10400000</td>\n",
       "      <td>1805</td>\n",
       "      <td>Narsingi</td>\n",
       "      <td>3</td>\n",
       "      <td>0</td>\n",
       "      <td>9</td>\n",
       "      <td>9</td>\n",
       "      <td>9</td>\n",
       "      <td>9</td>\n",
       "      <td>9</td>\n",
       "      <td>...</td>\n",
       "      <td>9</td>\n",
       "      <td>9</td>\n",
       "      <td>9</td>\n",
       "      <td>9</td>\n",
       "      <td>9</td>\n",
       "      <td>9</td>\n",
       "      <td>9</td>\n",
       "      <td>9</td>\n",
       "      <td>9</td>\n",
       "      <td>9</td>\n",
       "    </tr>\n",
       "  </tbody>\n",
       "</table>\n",
       "<p>1998 rows × 40 columns</p>\n",
       "</div>"
      ],
      "text/plain": [
       "         Price  Area     Location  No. of Bedrooms  Resale  MaintenanceStaff  \\\n",
       "0      6968000  1340     Nizampet                2       0                 0   \n",
       "1     29000000  3498  Hitech City                4       0                 0   \n",
       "2      6590000  1318    Manikonda                2       0                 0   \n",
       "3      5739000  1295        Alwal                3       1                 0   \n",
       "4      5679000  1145   Kukatpally                2       0                 0   \n",
       "...        ...   ...          ...              ...     ...               ...   \n",
       "2513  11000000  1460     Nacharam                2       1                 9   \n",
       "2514  26000000  1314    Manikonda                2       1                 9   \n",
       "2515  13300000  2625     Madhapur                3       1                 9   \n",
       "2516  10800000  2050  Hitech City                3       0                 9   \n",
       "2517  10400000  1805     Narsingi                3       0                 9   \n",
       "\n",
       "      Gymnasium  SwimmingPool  LandscapedGardens  JoggingTrack  ...  \\\n",
       "0             1             1                  1             1  ...   \n",
       "1             1             1                  1             1  ...   \n",
       "2             1             0                  0             0  ...   \n",
       "3             0             0                  0             0  ...   \n",
       "4             0             0                  1             0  ...   \n",
       "...         ...           ...                ...           ...  ...   \n",
       "2513          9             9                  9             9  ...   \n",
       "2514          9             9                  9             9  ...   \n",
       "2515          9             9                  9             9  ...   \n",
       "2516          9             9                  9             9  ...   \n",
       "2517          9             9                  9             9  ...   \n",
       "\n",
       "      LiftAvailable  BED  VaastuCompliant  Microwave  GolfCourse  TV  \\\n",
       "0                 1    0                1          0           0   0   \n",
       "1                 1    0                1          0           0   0   \n",
       "2                 0    0                0          0           0   0   \n",
       "3                 1    0                0          0           0   0   \n",
       "4                 1    0                0          0           0   0   \n",
       "...             ...  ...              ...        ...         ...  ..   \n",
       "2513              9    9                9          9           9   9   \n",
       "2514              9    9                9          9           9   9   \n",
       "2515              9    9                9          9           9   9   \n",
       "2516              9    9                9          9           9   9   \n",
       "2517              9    9                9          9           9   9   \n",
       "\n",
       "      DiningTable  Sofa  Wardrobe  Refrigerator  \n",
       "0               0     0         0             0  \n",
       "1               0     0         0             0  \n",
       "2               0     0         0             0  \n",
       "3               0     0         0             0  \n",
       "4               0     0         0             0  \n",
       "...           ...   ...       ...           ...  \n",
       "2513            9     9         9             9  \n",
       "2514            9     9         9             9  \n",
       "2515            9     9         9             9  \n",
       "2516            9     9         9             9  \n",
       "2517            9     9         9             9  \n",
       "\n",
       "[1998 rows x 40 columns]"
      ]
     },
     "execution_count": 8,
     "metadata": {},
     "output_type": "execute_result"
    }
   ],
   "source": [
    "data.drop_duplicates()"
   ]
  },
  {
   "cell_type": "code",
   "execution_count": 9,
   "id": "b70d1804",
   "metadata": {},
   "outputs": [
    {
     "data": {
      "text/plain": [
       "Price                  690\n",
       "Area                   579\n",
       "Location               243\n",
       "No. of Bedrooms          7\n",
       "Resale                   2\n",
       "MaintenanceStaff         3\n",
       "Gymnasium                3\n",
       "SwimmingPool             3\n",
       "LandscapedGardens        3\n",
       "JoggingTrack             3\n",
       "RainWaterHarvesting      3\n",
       "IndoorGames              3\n",
       "ShoppingMall             3\n",
       "Intercom                 3\n",
       "SportsFacility           3\n",
       "ATM                      3\n",
       "ClubHouse                3\n",
       "School                   3\n",
       "24X7Security             3\n",
       "PowerBackup              3\n",
       "CarParking               3\n",
       "StaffQuarter             3\n",
       "Cafeteria                3\n",
       "MultipurposeRoom         3\n",
       "Hospital                 3\n",
       "WashingMachine           3\n",
       "Gasconnection            3\n",
       "AC                       3\n",
       "Wifi                     3\n",
       "Children'splayarea       3\n",
       "LiftAvailable            3\n",
       "BED                      3\n",
       "VaastuCompliant          3\n",
       "Microwave                3\n",
       "GolfCourse               3\n",
       "TV                       3\n",
       "DiningTable              3\n",
       "Sofa                     3\n",
       "Wardrobe                 3\n",
       "Refrigerator             3\n",
       "dtype: int64"
      ]
     },
     "execution_count": 9,
     "metadata": {},
     "output_type": "execute_result"
    }
   ],
   "source": [
    "data.nunique()"
   ]
  },
  {
   "cell_type": "code",
   "execution_count": 10,
   "id": "4e726760",
   "metadata": {},
   "outputs": [
    {
     "data": {
      "text/plain": [
       "array(['Nizampet', 'Hitech City', 'Manikonda', 'Alwal', 'Kukatpally',\n",
       "       'Gachibowli', 'Tellapur', 'Kokapet', 'Hyder Nagar', 'Mehdipatnam',\n",
       "       'Narsingi', 'Khajaguda Nanakramguda Road', 'Madhapur',\n",
       "       'Puppalaguda', 'Begumpet', 'Banjara Hills', 'AS Rao Nagar',\n",
       "       'Pragathi Nagar Kukatpally', 'Miyapur', 'Mallampet',\n",
       "       'Nanakramguda', 'Attapur', 'West Marredpally', 'Kompally',\n",
       "       'Sri Nagar Colony', 'Hakimpet', 'Pocharam', 'Nagole', 'LB Nagar',\n",
       "       'Meerpet', 'Kachiguda', 'Masab Tank', 'Kondapur', 'Saroornagar',\n",
       "       'Uppal Kalan', 'Mallapur', 'Rajendra Nagar', 'Beeramguda',\n",
       "       'Moosapet', 'Bachupally', 'Toli Chowki', 'Lakdikapul', 'Tarnaka',\n",
       "       'Kistareddypet', 'Hafeezpet', 'Shaikpet', 'Amberpet', 'Kapra',\n",
       "       'Trimalgherry', 'Habsiguda', 'Sanath Nagar', 'Darga Khaliz Khan',\n",
       "       'Kothaguda', 'Balanagar', 'Jubilee Hills', 'raidurgam',\n",
       "       'Murad Nagar', 'Chandanagar', 'East Marredpally', 'Aminpur',\n",
       "       'Gajularamaram', 'Serilingampally', 'Malkajgiri', 'Mettuguda',\n",
       "       'Venkat Nagar Colony', 'Kondakal', 'Gopanpally', 'Somajiguda',\n",
       "       'Nallagandla Gachibowli', 'Krishna Reddy Pet', 'Bolarum',\n",
       "       'Zamistanpur', 'Madhura Nagar', 'Ghansi Bazaar', 'Chintalakunta',\n",
       "       'Chinthal Basthi', 'Nallakunta', 'Bowenpally', 'Bandlaguda Jagir',\n",
       "       'Boduppal', 'Neknampur', 'Appa Junction Peerancheru',\n",
       "       'Ambedkar Nagar', 'Vanasthalipuram', 'Moula Ali', 'Gandipet',\n",
       "       'Nacharam', 'Appa Junction', 'Qutub Shahi Tombs', 'Abids',\n",
       "       'Dilsukh Nagar', 'Quthbullapur', 'Sainikpuri', 'KTR Colony',\n",
       "       'Bollaram', 'Karmanghat', 'Gajulramaram Kukatpally', 'Uppal',\n",
       "       'Cherlapalli', 'Himayat Nagar', 'Rhoda Mistri Nagar', 'Chintalmet',\n",
       "       'Hitex Road', 'ECIL', 'Boiguda', 'ECIL Main Road',\n",
       "       'ECIL Cross Road', 'Rajbhavan Road Somajiguda',\n",
       "       'Ramachandra Puram', 'TellapurOsman Nagar Road', 'Mansoorabad',\n",
       "       'KRCR Colony Road', 'Pragati Nagar', 'Padmarao Nagar',\n",
       "       'Paramount Colony Toli Chowki', 'BK Guda Internal Road',\n",
       "       'muthangi', 'Pragathi Nagar', 'Yapral', 'Narayanguda', 'Kollur',\n",
       "       'Bachupally Road', 'Old Bowenpally', 'Alapathi Nagar',\n",
       "       'Arvind Nagar Colony', 'Matrusri Nagar', 'Pragathi Nagar Road',\n",
       "       'Padma Colony', 'Happy Homes Colony', 'Old Nallakunta',\n",
       "       'Sangeet Nagar', 'NRSA Colony', 'Adibatla', 'Methodist Colony',\n",
       "       'Ameerpet', 'ALIND Employees Colony', 'Khizra Enclave', 'Medchal',\n",
       "       'Dammaiguda', 'Suchitra', 'Whitefields', 'Mayuri Nagar',\n",
       "       'Adda Gutta', 'Miyapur HMT Swarnapuri Colony',\n",
       "       'Central Excise Colony Hyderabad', 'Basheer Bagh', 'Gopal Nagar',\n",
       "       'Bachupaly Road Miyapur', 'Kushaiguda', 'Ashok Nagar',\n",
       "       'Barkatpura', 'Madinaguda', 'Bagh Amberpet', 'new nallakunta',\n",
       "       'BHEL', 'Sun City', 'Hydershakote', 'BK Guda Road',\n",
       "       'Nallagandla Road', 'IDPL Colony', 'Ramnagar Gundu',\n",
       "       'Alkapur township', 'Banjara Hills Road Number 12',\n",
       "       'Panchavati Colony Manikonda', 'New Maruthi Nagar',\n",
       "       'Madhavaram Nagar Colony', 'Miyapur Bachupally Road',\n",
       "       'nizampet road', 'Kokapeta Village', 'HMT Hills', 'Tilak Nagar',\n",
       "       'Chititra Medchal', 'Isnapur', 'D D Colony', 'DD Colony',\n",
       "       'Patancheru Shankarpalli Road', 'Patancheru', 'Jhangir Pet',\n",
       "       'Almasguda', 'Allwyn Colony', 'financial District',\n",
       "       'Beeramguda Road', 'Pati', 'Karimnagar', 'Kollur Road',\n",
       "       'Sun City Padmasri Estates', 'Chaitanyapuri', 'Nandagiri Hills',\n",
       "       'Whitefield', 'Film Nagar', 'Kismatpur', 'Dr A S Rao Nagar Rd',\n",
       "       'Dullapally', 'KPHB', 'Vivekananda Nagar Colony', 'Ameenpur',\n",
       "       'Chintradripet', 'Ring Road', 'Saket', 'Kavuri Hills', 'manneguda',\n",
       "       'Moti Nagar', 'Usman Nagar', 'Shadnagar', 'Bongloor',\n",
       "       'Mailardevpally', 'Uppalguda', 'Tirumalgiri', 'Chikkadapally',\n",
       "       'JNTU', 'hyderabad', 'Shamshabad', 'Srisailam Highway',\n",
       "       'Domalguda', 'Lingampalli', 'Residential Flat Machavaram',\n",
       "       'Whisper Valley', 'Tukkuguda Airport View Point Road',\n",
       "       'Santoshnagar', 'Tolichowki', 'Domalguda Road', 'Shankarpalli',\n",
       "       'Kothapet', 'Baghlingampally', 'Picket', 'Safilguda',\n",
       "       'Sikh Village', 'Neredmet', 'Macha Bolarum', 'Kowkur',\n",
       "       'Rakshapuram', 'west venkatapuram', 'Vidyanagar Adikmet',\n",
       "       'Aushapur', 'Old Alwal', 'Secunderabad Railway Station Road',\n",
       "       'Balapur', 'Hastinapur', 'chandrayangutta',\n",
       "       'Balaji Hills Colony Venkatraya Nagar', 'Janachaitanya Colony',\n",
       "       'Gurramguda', 'Paradise Circle'], dtype=object)"
      ]
     },
     "execution_count": 10,
     "metadata": {},
     "output_type": "execute_result"
    }
   ],
   "source": [
    "data['Location'].unique()"
   ]
  },
  {
   "cell_type": "code",
   "execution_count": 11,
   "id": "7305abc3",
   "metadata": {},
   "outputs": [
    {
     "name": "stdout",
     "output_type": "stream",
     "text": [
      "<class 'pandas.core.frame.DataFrame'>\n",
      "RangeIndex: 2518 entries, 0 to 2517\n",
      "Data columns (total 40 columns):\n",
      " #   Column               Non-Null Count  Dtype \n",
      "---  ------               --------------  ----- \n",
      " 0   Price                2518 non-null   int64 \n",
      " 1   Area                 2518 non-null   int64 \n",
      " 2   Location             2518 non-null   object\n",
      " 3   No. of Bedrooms      2518 non-null   int64 \n",
      " 4   Resale               2518 non-null   int64 \n",
      " 5   MaintenanceStaff     2518 non-null   int64 \n",
      " 6   Gymnasium            2518 non-null   int64 \n",
      " 7   SwimmingPool         2518 non-null   int64 \n",
      " 8   LandscapedGardens    2518 non-null   int64 \n",
      " 9   JoggingTrack         2518 non-null   int64 \n",
      " 10  RainWaterHarvesting  2518 non-null   int64 \n",
      " 11  IndoorGames          2518 non-null   int64 \n",
      " 12  ShoppingMall         2518 non-null   int64 \n",
      " 13  Intercom             2518 non-null   int64 \n",
      " 14  SportsFacility       2518 non-null   int64 \n",
      " 15  ATM                  2518 non-null   int64 \n",
      " 16  ClubHouse            2518 non-null   int64 \n",
      " 17  School               2518 non-null   int64 \n",
      " 18  24X7Security         2518 non-null   int64 \n",
      " 19  PowerBackup          2518 non-null   int64 \n",
      " 20  CarParking           2518 non-null   int64 \n",
      " 21  StaffQuarter         2518 non-null   int64 \n",
      " 22  Cafeteria            2518 non-null   int64 \n",
      " 23  MultipurposeRoom     2518 non-null   int64 \n",
      " 24  Hospital             2518 non-null   int64 \n",
      " 25  WashingMachine       2518 non-null   int64 \n",
      " 26  Gasconnection        2518 non-null   int64 \n",
      " 27  AC                   2518 non-null   int64 \n",
      " 28  Wifi                 2518 non-null   int64 \n",
      " 29  Children'splayarea   2518 non-null   int64 \n",
      " 30  LiftAvailable        2518 non-null   int64 \n",
      " 31  BED                  2518 non-null   int64 \n",
      " 32  VaastuCompliant      2518 non-null   int64 \n",
      " 33  Microwave            2518 non-null   int64 \n",
      " 34  GolfCourse           2518 non-null   int64 \n",
      " 35  TV                   2518 non-null   int64 \n",
      " 36  DiningTable          2518 non-null   int64 \n",
      " 37  Sofa                 2518 non-null   int64 \n",
      " 38  Wardrobe             2518 non-null   int64 \n",
      " 39  Refrigerator         2518 non-null   int64 \n",
      "dtypes: int64(39), object(1)\n",
      "memory usage: 787.0+ KB\n"
     ]
    }
   ],
   "source": [
    "data.info()"
   ]
  },
  {
   "cell_type": "code",
   "execution_count": 12,
   "id": "b3544345",
   "metadata": {
    "scrolled": true
   },
   "outputs": [
    {
     "data": {
      "text/plain": [
       "Price                  1.000000\n",
       "Area                   0.829310\n",
       "No. of Bedrooms        0.614283\n",
       "Resale                 0.203878\n",
       "SwimmingPool           0.076059\n",
       "Gymnasium              0.068763\n",
       "JoggingTrack           0.065828\n",
       "ClubHouse              0.062555\n",
       "24X7Security           0.061210\n",
       "LandscapedGardens      0.061165\n",
       "Children'splayarea     0.060944\n",
       "IndoorGames            0.060358\n",
       "CarParking             0.055651\n",
       "RainWaterHarvesting    0.050957\n",
       "MultipurposeRoom       0.050801\n",
       "VaastuCompliant        0.049295\n",
       "Intercom               0.040643\n",
       "PowerBackup            0.036974\n",
       "LiftAvailable          0.029536\n",
       "StaffQuarter           0.019729\n",
       "SportsFacility         0.018863\n",
       "MaintenanceStaff       0.013022\n",
       "Cafeteria              0.008892\n",
       "AC                     0.005572\n",
       "ATM                    0.004866\n",
       "BED                   -0.003700\n",
       "TV                    -0.005373\n",
       "Refrigerator          -0.005895\n",
       "DiningTable           -0.006059\n",
       "Gasconnection         -0.006604\n",
       "Wardrobe              -0.006858\n",
       "WashingMachine        -0.007221\n",
       "Sofa                  -0.007628\n",
       "Wifi                  -0.008429\n",
       "ShoppingMall          -0.009725\n",
       "Hospital              -0.014022\n",
       "Microwave             -0.014067\n",
       "School                -0.015091\n",
       "GolfCourse            -0.020505\n",
       "Name: Price, dtype: float64"
      ]
     },
     "execution_count": 12,
     "metadata": {},
     "output_type": "execute_result"
    }
   ],
   "source": [
    "# using correlation statistical method to find the relation between the price and other features\n",
    "data.corr()['Price'].sort_values(ascending=False)"
   ]
  },
  {
   "cell_type": "code",
   "execution_count": 13,
   "id": "7c9e027c",
   "metadata": {},
   "outputs": [],
   "source": [
    "correlations = data.corr(method='pearson')\n",
    "target_correlations = correlations['Price']\n",
    "\n",
    "# Identify features with strong correlations (e.g., absolute correlation > 0.5)\n",
    "relevant_features = target_correlations[abs(target_correlations) >= 0.5].index\n",
    "\n",
    "# # Select relevant features from the dataset\n",
    "selected_features = data[relevant_features]"
   ]
  },
  {
   "cell_type": "code",
   "execution_count": 14,
   "id": "86eeafc4",
   "metadata": {
    "scrolled": true
   },
   "outputs": [
    {
     "data": {
      "text/html": [
       "<div>\n",
       "<style scoped>\n",
       "    .dataframe tbody tr th:only-of-type {\n",
       "        vertical-align: middle;\n",
       "    }\n",
       "\n",
       "    .dataframe tbody tr th {\n",
       "        vertical-align: top;\n",
       "    }\n",
       "\n",
       "    .dataframe thead th {\n",
       "        text-align: right;\n",
       "    }\n",
       "</style>\n",
       "<table border=\"1\" class=\"dataframe\">\n",
       "  <thead>\n",
       "    <tr style=\"text-align: right;\">\n",
       "      <th></th>\n",
       "      <th>Price</th>\n",
       "      <th>Area</th>\n",
       "      <th>No. of Bedrooms</th>\n",
       "    </tr>\n",
       "  </thead>\n",
       "  <tbody>\n",
       "    <tr>\n",
       "      <th>0</th>\n",
       "      <td>6968000</td>\n",
       "      <td>1340</td>\n",
       "      <td>2</td>\n",
       "    </tr>\n",
       "    <tr>\n",
       "      <th>1</th>\n",
       "      <td>29000000</td>\n",
       "      <td>3498</td>\n",
       "      <td>4</td>\n",
       "    </tr>\n",
       "    <tr>\n",
       "      <th>2</th>\n",
       "      <td>6590000</td>\n",
       "      <td>1318</td>\n",
       "      <td>2</td>\n",
       "    </tr>\n",
       "    <tr>\n",
       "      <th>3</th>\n",
       "      <td>5739000</td>\n",
       "      <td>1295</td>\n",
       "      <td>3</td>\n",
       "    </tr>\n",
       "    <tr>\n",
       "      <th>4</th>\n",
       "      <td>5679000</td>\n",
       "      <td>1145</td>\n",
       "      <td>2</td>\n",
       "    </tr>\n",
       "    <tr>\n",
       "      <th>...</th>\n",
       "      <td>...</td>\n",
       "      <td>...</td>\n",
       "      <td>...</td>\n",
       "    </tr>\n",
       "    <tr>\n",
       "      <th>2513</th>\n",
       "      <td>11000000</td>\n",
       "      <td>1460</td>\n",
       "      <td>2</td>\n",
       "    </tr>\n",
       "    <tr>\n",
       "      <th>2514</th>\n",
       "      <td>26000000</td>\n",
       "      <td>1314</td>\n",
       "      <td>2</td>\n",
       "    </tr>\n",
       "    <tr>\n",
       "      <th>2515</th>\n",
       "      <td>13300000</td>\n",
       "      <td>2625</td>\n",
       "      <td>3</td>\n",
       "    </tr>\n",
       "    <tr>\n",
       "      <th>2516</th>\n",
       "      <td>10800000</td>\n",
       "      <td>2050</td>\n",
       "      <td>3</td>\n",
       "    </tr>\n",
       "    <tr>\n",
       "      <th>2517</th>\n",
       "      <td>10400000</td>\n",
       "      <td>1805</td>\n",
       "      <td>3</td>\n",
       "    </tr>\n",
       "  </tbody>\n",
       "</table>\n",
       "<p>2518 rows × 3 columns</p>\n",
       "</div>"
      ],
      "text/plain": [
       "         Price  Area  No. of Bedrooms\n",
       "0      6968000  1340                2\n",
       "1     29000000  3498                4\n",
       "2      6590000  1318                2\n",
       "3      5739000  1295                3\n",
       "4      5679000  1145                2\n",
       "...        ...   ...              ...\n",
       "2513  11000000  1460                2\n",
       "2514  26000000  1314                2\n",
       "2515  13300000  2625                3\n",
       "2516  10800000  2050                3\n",
       "2517  10400000  1805                3\n",
       "\n",
       "[2518 rows x 3 columns]"
      ]
     },
     "execution_count": 14,
     "metadata": {},
     "output_type": "execute_result"
    }
   ],
   "source": [
    "selected_features "
   ]
  },
  {
   "cell_type": "code",
   "execution_count": 15,
   "id": "34f1a0e1",
   "metadata": {},
   "outputs": [],
   "source": [
    "result = pd.concat([selected_features, data['Location']], axis=1)"
   ]
  },
  {
   "cell_type": "code",
   "execution_count": 16,
   "id": "f0f58a52",
   "metadata": {
    "scrolled": false
   },
   "outputs": [
    {
     "data": {
      "text/html": [
       "<div>\n",
       "<style scoped>\n",
       "    .dataframe tbody tr th:only-of-type {\n",
       "        vertical-align: middle;\n",
       "    }\n",
       "\n",
       "    .dataframe tbody tr th {\n",
       "        vertical-align: top;\n",
       "    }\n",
       "\n",
       "    .dataframe thead th {\n",
       "        text-align: right;\n",
       "    }\n",
       "</style>\n",
       "<table border=\"1\" class=\"dataframe\">\n",
       "  <thead>\n",
       "    <tr style=\"text-align: right;\">\n",
       "      <th></th>\n",
       "      <th>Price</th>\n",
       "      <th>Area</th>\n",
       "      <th>No. of Bedrooms</th>\n",
       "      <th>Location</th>\n",
       "    </tr>\n",
       "  </thead>\n",
       "  <tbody>\n",
       "    <tr>\n",
       "      <th>0</th>\n",
       "      <td>6968000</td>\n",
       "      <td>1340</td>\n",
       "      <td>2</td>\n",
       "      <td>Nizampet</td>\n",
       "    </tr>\n",
       "    <tr>\n",
       "      <th>1</th>\n",
       "      <td>29000000</td>\n",
       "      <td>3498</td>\n",
       "      <td>4</td>\n",
       "      <td>Hitech City</td>\n",
       "    </tr>\n",
       "    <tr>\n",
       "      <th>2</th>\n",
       "      <td>6590000</td>\n",
       "      <td>1318</td>\n",
       "      <td>2</td>\n",
       "      <td>Manikonda</td>\n",
       "    </tr>\n",
       "    <tr>\n",
       "      <th>3</th>\n",
       "      <td>5739000</td>\n",
       "      <td>1295</td>\n",
       "      <td>3</td>\n",
       "      <td>Alwal</td>\n",
       "    </tr>\n",
       "    <tr>\n",
       "      <th>4</th>\n",
       "      <td>5679000</td>\n",
       "      <td>1145</td>\n",
       "      <td>2</td>\n",
       "      <td>Kukatpally</td>\n",
       "    </tr>\n",
       "    <tr>\n",
       "      <th>...</th>\n",
       "      <td>...</td>\n",
       "      <td>...</td>\n",
       "      <td>...</td>\n",
       "      <td>...</td>\n",
       "    </tr>\n",
       "    <tr>\n",
       "      <th>2513</th>\n",
       "      <td>11000000</td>\n",
       "      <td>1460</td>\n",
       "      <td>2</td>\n",
       "      <td>Nacharam</td>\n",
       "    </tr>\n",
       "    <tr>\n",
       "      <th>2514</th>\n",
       "      <td>26000000</td>\n",
       "      <td>1314</td>\n",
       "      <td>2</td>\n",
       "      <td>Manikonda</td>\n",
       "    </tr>\n",
       "    <tr>\n",
       "      <th>2515</th>\n",
       "      <td>13300000</td>\n",
       "      <td>2625</td>\n",
       "      <td>3</td>\n",
       "      <td>Madhapur</td>\n",
       "    </tr>\n",
       "    <tr>\n",
       "      <th>2516</th>\n",
       "      <td>10800000</td>\n",
       "      <td>2050</td>\n",
       "      <td>3</td>\n",
       "      <td>Hitech City</td>\n",
       "    </tr>\n",
       "    <tr>\n",
       "      <th>2517</th>\n",
       "      <td>10400000</td>\n",
       "      <td>1805</td>\n",
       "      <td>3</td>\n",
       "      <td>Narsingi</td>\n",
       "    </tr>\n",
       "  </tbody>\n",
       "</table>\n",
       "<p>2518 rows × 4 columns</p>\n",
       "</div>"
      ],
      "text/plain": [
       "         Price  Area  No. of Bedrooms     Location\n",
       "0      6968000  1340                2     Nizampet\n",
       "1     29000000  3498                4  Hitech City\n",
       "2      6590000  1318                2    Manikonda\n",
       "3      5739000  1295                3        Alwal\n",
       "4      5679000  1145                2   Kukatpally\n",
       "...        ...   ...              ...          ...\n",
       "2513  11000000  1460                2     Nacharam\n",
       "2514  26000000  1314                2    Manikonda\n",
       "2515  13300000  2625                3     Madhapur\n",
       "2516  10800000  2050                3  Hitech City\n",
       "2517  10400000  1805                3     Narsingi\n",
       "\n",
       "[2518 rows x 4 columns]"
      ]
     },
     "execution_count": 16,
     "metadata": {},
     "output_type": "execute_result"
    }
   ],
   "source": [
    "result"
   ]
  },
  {
   "cell_type": "code",
   "execution_count": 17,
   "id": "dbaac459",
   "metadata": {},
   "outputs": [],
   "source": [
    "from sklearn.preprocessing import LabelEncoder"
   ]
  },
  {
   "cell_type": "code",
   "execution_count": 18,
   "id": "331344ea",
   "metadata": {},
   "outputs": [],
   "source": [
    "le =LabelEncoder()"
   ]
  },
  {
   "cell_type": "code",
   "execution_count": 19,
   "id": "aed0f9e6",
   "metadata": {},
   "outputs": [],
   "source": [
    "result['Location'] = le.fit_transform(result['Location'])"
   ]
  },
  {
   "cell_type": "code",
   "execution_count": 20,
   "id": "8d6c08b6",
   "metadata": {
    "scrolled": false
   },
   "outputs": [
    {
     "data": {
      "text/html": [
       "<div>\n",
       "<style scoped>\n",
       "    .dataframe tbody tr th:only-of-type {\n",
       "        vertical-align: middle;\n",
       "    }\n",
       "\n",
       "    .dataframe tbody tr th {\n",
       "        vertical-align: top;\n",
       "    }\n",
       "\n",
       "    .dataframe thead th {\n",
       "        text-align: right;\n",
       "    }\n",
       "</style>\n",
       "<table border=\"1\" class=\"dataframe\">\n",
       "  <thead>\n",
       "    <tr style=\"text-align: right;\">\n",
       "      <th></th>\n",
       "      <th>Price</th>\n",
       "      <th>Area</th>\n",
       "      <th>No. of Bedrooms</th>\n",
       "      <th>Location</th>\n",
       "    </tr>\n",
       "  </thead>\n",
       "  <tbody>\n",
       "    <tr>\n",
       "      <th>0</th>\n",
       "      <td>6968000</td>\n",
       "      <td>1340</td>\n",
       "      <td>2</td>\n",
       "      <td>162</td>\n",
       "    </tr>\n",
       "    <tr>\n",
       "      <th>1</th>\n",
       "      <td>29000000</td>\n",
       "      <td>3498</td>\n",
       "      <td>4</td>\n",
       "      <td>85</td>\n",
       "    </tr>\n",
       "    <tr>\n",
       "      <th>2</th>\n",
       "      <td>6590000</td>\n",
       "      <td>1318</td>\n",
       "      <td>2</td>\n",
       "      <td>132</td>\n",
       "    </tr>\n",
       "    <tr>\n",
       "      <th>3</th>\n",
       "      <td>5739000</td>\n",
       "      <td>1295</td>\n",
       "      <td>3</td>\n",
       "      <td>9</td>\n",
       "    </tr>\n",
       "    <tr>\n",
       "      <th>4</th>\n",
       "      <td>5679000</td>\n",
       "      <td>1145</td>\n",
       "      <td>2</td>\n",
       "      <td>118</td>\n",
       "    </tr>\n",
       "    <tr>\n",
       "      <th>...</th>\n",
       "      <td>...</td>\n",
       "      <td>...</td>\n",
       "      <td>...</td>\n",
       "      <td>...</td>\n",
       "    </tr>\n",
       "    <tr>\n",
       "      <th>2513</th>\n",
       "      <td>11000000</td>\n",
       "      <td>1460</td>\n",
       "      <td>2</td>\n",
       "      <td>150</td>\n",
       "    </tr>\n",
       "    <tr>\n",
       "      <th>2514</th>\n",
       "      <td>26000000</td>\n",
       "      <td>1314</td>\n",
       "      <td>2</td>\n",
       "      <td>132</td>\n",
       "    </tr>\n",
       "    <tr>\n",
       "      <th>2515</th>\n",
       "      <td>13300000</td>\n",
       "      <td>2625</td>\n",
       "      <td>3</td>\n",
       "      <td>124</td>\n",
       "    </tr>\n",
       "    <tr>\n",
       "      <th>2516</th>\n",
       "      <td>10800000</td>\n",
       "      <td>2050</td>\n",
       "      <td>3</td>\n",
       "      <td>85</td>\n",
       "    </tr>\n",
       "    <tr>\n",
       "      <th>2517</th>\n",
       "      <td>10400000</td>\n",
       "      <td>1805</td>\n",
       "      <td>3</td>\n",
       "      <td>158</td>\n",
       "    </tr>\n",
       "  </tbody>\n",
       "</table>\n",
       "<p>2518 rows × 4 columns</p>\n",
       "</div>"
      ],
      "text/plain": [
       "         Price  Area  No. of Bedrooms  Location\n",
       "0      6968000  1340                2       162\n",
       "1     29000000  3498                4        85\n",
       "2      6590000  1318                2       132\n",
       "3      5739000  1295                3         9\n",
       "4      5679000  1145                2       118\n",
       "...        ...   ...              ...       ...\n",
       "2513  11000000  1460                2       150\n",
       "2514  26000000  1314                2       132\n",
       "2515  13300000  2625                3       124\n",
       "2516  10800000  2050                3        85\n",
       "2517  10400000  1805                3       158\n",
       "\n",
       "[2518 rows x 4 columns]"
      ]
     },
     "execution_count": 20,
     "metadata": {},
     "output_type": "execute_result"
    }
   ],
   "source": [
    "result"
   ]
  },
  {
   "cell_type": "code",
   "execution_count": 21,
   "id": "4bb2364d",
   "metadata": {
    "scrolled": true
   },
   "outputs": [
    {
     "data": {
      "text/plain": [
       "0       Nizampet\n",
       "1    Hitech City\n",
       "2      Manikonda\n",
       "3          Alwal\n",
       "4     Kukatpally\n",
       "5       Nizampet\n",
       "6      Manikonda\n",
       "7     Gachibowli\n",
       "8       Tellapur\n",
       "9     Gachibowli\n",
       "Name: Location, dtype: object"
      ]
     },
     "execution_count": 21,
     "metadata": {},
     "output_type": "execute_result"
    }
   ],
   "source": [
    "data['Location'][0:10]"
   ]
  },
  {
   "cell_type": "code",
   "execution_count": 22,
   "id": "a981eea0",
   "metadata": {
    "scrolled": false
   },
   "outputs": [
    {
     "data": {
      "text/plain": [
       "0    162\n",
       "1     85\n",
       "2    132\n",
       "3      9\n",
       "4    118\n",
       "5    162\n",
       "6    132\n",
       "7     70\n",
       "8    212\n",
       "9     70\n",
       "Name: Location, dtype: int32"
      ]
     },
     "execution_count": 22,
     "metadata": {},
     "output_type": "execute_result"
    }
   ],
   "source": [
    "result['Location'][0:10]"
   ]
  },
  {
   "cell_type": "code",
   "execution_count": 23,
   "id": "f8615e07",
   "metadata": {},
   "outputs": [
    {
     "data": {
      "text/plain": [
       "<AxesSubplot:xlabel='Price'>"
      ]
     },
     "execution_count": 23,
     "metadata": {},
     "output_type": "execute_result"
    },
    {
     "data": {
      "image/png": "[encoded data removed]",
      "text/plain": [
       "<Figure size 640x480 with 1 Axes>"
      ]
     },
     "metadata": {},
     "output_type": "display_data"
    }
   ],
   "source": [
    "sns.boxplot(result['Price'])"
   ]
  },
  {
   "cell_type": "code",
   "execution_count": 24,
   "id": "27e5350a",
   "metadata": {},
   "outputs": [],
   "source": [
    "# Outlier treatment for Price\n",
    "\n",
    "Q1 = result.Price.quantile(0.25)\n",
    "Q3 = result.Price.quantile(0.75)\n",
    "IQR = Q3 - Q1\n",
    "result = result[(result.Price >= Q1 - 1.5*IQR) & (result.Price <= Q3 + 1.5*IQR)]"
   ]
  },
  {
   "cell_type": "code",
   "execution_count": 25,
   "id": "4b20a841",
   "metadata": {
    "scrolled": false
   },
   "outputs": [
    {
     "data": {
      "text/plain": [
       "<AxesSubplot:xlabel='Price'>"
      ]
     },
     "execution_count": 25,
     "metadata": {},
     "output_type": "execute_result"
    },
    {
     "data": {
      "image/png": "[encoded data removed]",
      "text/plain": [
       "<Figure size 640x480 with 1 Axes>"
      ]
     },
     "metadata": {},
     "output_type": "display_data"
    }
   ],
   "source": [
    "sns.boxplot(result['Price'])"
   ]
  },
  {
   "cell_type": "code",
   "execution_count": 26,
   "id": "11f04584",
   "metadata": {
    "scrolled": true
   },
   "outputs": [
    {
     "data": {
      "text/plain": [
       "<AxesSubplot:xlabel='Area'>"
      ]
     },
     "execution_count": 26,
     "metadata": {},
     "output_type": "execute_result"
    },
    {
     "data": {
      "image/png": "[encoded data removed]",
      "text/plain": [
       "<Figure size 640x480 with 1 Axes>"
      ]
     },
     "metadata": {},
     "output_type": "display_data"
    }
   ],
   "source": [
    "sns.boxplot(result['Area'])"
   ]
  },
  {
   "cell_type": "code",
   "execution_count": 27,
   "id": "3c061d72",
   "metadata": {},
   "outputs": [],
   "source": [
    "# Outlier treatment for Area\n",
    "\n",
    "Q1 = result.Area.quantile(0.25)\n",
    "Q3 = result.Area.quantile(0.75)\n",
    "IQR = Q3 - Q1\n",
    "result = result[(result.Area >= Q1 - 1.5*IQR) & (result.Area <= Q3 + 1.5*IQR)]"
   ]
  },
  {
   "cell_type": "code",
   "execution_count": 28,
   "id": "48abed6d",
   "metadata": {},
   "outputs": [
    {
     "data": {
      "text/plain": [
       "<AxesSubplot:xlabel='Area'>"
      ]
     },
     "execution_count": 28,
     "metadata": {},
     "output_type": "execute_result"
    },
    {
     "data": {
      "image/png": "[encoded data removed]",
      "text/plain": [
       "<Figure size 640x480 with 1 Axes>"
      ]
     },
     "metadata": {},
     "output_type": "display_data"
    }
   ],
   "source": [
    "sns.boxplot(result['Area'])"
   ]
  },
  {
   "cell_type": "code",
   "execution_count": 29,
   "id": "729f7be8",
   "metadata": {},
   "outputs": [],
   "source": [
    "from sklearn.model_selection import train_test_split"
   ]
  },
  {
   "cell_type": "code",
   "execution_count": 30,
   "id": "c610a332",
   "metadata": {},
   "outputs": [],
   "source": [
    "X = result.drop(columns = 'Price')\n",
    "y = result['Price']"
   ]
  },
  {
   "cell_type": "code",
   "execution_count": 31,
   "id": "26e9f413",
   "metadata": {},
   "outputs": [],
   "source": [
    "X_train, X_test, y_train, y_test = train_test_split(X,y,test_size=0.2,random_state=10)"
   ]
  },
  {
   "cell_type": "code",
   "execution_count": 32,
   "id": "ccda1bf4",
   "metadata": {},
   "outputs": [],
   "source": [
    "from sklearn.linear_model import LinearRegression\n",
    "from sklearn.preprocessing import PolynomialFeatures\n",
    "from sklearn.preprocessing import StandardScaler\n",
    "from sklearn.pipeline import Pipeline"
   ]
  },
  {
   "cell_type": "code",
   "execution_count": 33,
   "id": "e06d3613",
   "metadata": {
    "scrolled": true
   },
   "outputs": [
    {
     "data": {
      "text/html": [
       "<style>#sk-container-id-1 {color: black;}#sk-container-id-1 pre{padding: 0;}#sk-container-id-1 div.sk-toggleable {background-color: white;}#sk-container-id-1 label.sk-toggleable__label {cursor: pointer;display: block;width: 100%;margin-bottom: 0;padding: 0.3em;box-sizing: border-box;text-align: center;}#sk-container-id-1 label.sk-toggleable__label-arrow:before {content: \"▸\";float: left;margin-right: 0.25em;color: #696969;}#sk-container-id-1 label.sk-toggleable__label-arrow:hover:before {color: black;}#sk-container-id-1 div.sk-estimator:hover label.sk-toggleable__label-arrow:before {color: black;}#sk-container-id-1 div.sk-toggleable__content {max-height: 0;max-width: 0;overflow: hidden;text-align: left;background-color: #f0f8ff;}#sk-container-id-1 div.sk-toggleable__content pre {margin: 0.2em;color: black;border-radius: 0.25em;background-color: #f0f8ff;}#sk-container-id-1 input.sk-toggleable__control:checked~div.sk-toggleable__content {max-height: 200px;max-width: 100%;overflow: auto;}#sk-container-id-1 input.sk-toggleable__control:checked~label.sk-toggleable__label-arrow:before {content: \"▾\";}#sk-container-id-1 div.sk-estimator input.sk-toggleable__control:checked~label.sk-toggleable__label {background-color: #d4ebff;}#sk-container-id-1 div.sk-label input.sk-toggleable__control:checked~label.sk-toggleable__label {background-color: #d4ebff;}#sk-container-id-1 input.sk-hidden--visually {border: 0;clip: rect(1px 1px 1px 1px);clip: rect(1px, 1px, 1px, 1px);height: 1px;margin: -1px;overflow: hidden;padding: 0;position: absolute;width: 1px;}#sk-container-id-1 div.sk-estimator {font-family: monospace;background-color: #f0f8ff;border: 1px dotted black;border-radius: 0.25em;box-sizing: border-box;margin-bottom: 0.5em;}#sk-container-id-1 div.sk-estimator:hover {background-color: #d4ebff;}#sk-container-id-1 div.sk-parallel-item::after {content: \"\";width: 100%;border-bottom: 1px solid gray;flex-grow: 1;}#sk-container-id-1 div.sk-label:hover label.sk-toggleable__label {background-color: #d4ebff;}#sk-container-id-1 div.sk-serial::before {content: \"\";position: absolute;border-left: 1px solid gray;box-sizing: border-box;top: 0;bottom: 0;left: 50%;z-index: 0;}#sk-container-id-1 div.sk-serial {display: flex;flex-direction: column;align-items: center;background-color: white;padding-right: 0.2em;padding-left: 0.2em;position: relative;}#sk-container-id-1 div.sk-item {position: relative;z-index: 1;}#sk-container-id-1 div.sk-parallel {display: flex;align-items: stretch;justify-content: center;background-color: white;position: relative;}#sk-container-id-1 div.sk-item::before, #sk-container-id-1 div.sk-parallel-item::before {content: \"\";position: absolute;border-left: 1px solid gray;box-sizing: border-box;top: 0;bottom: 0;left: 50%;z-index: -1;}#sk-container-id-1 div.sk-parallel-item {display: flex;flex-direction: column;z-index: 1;position: relative;background-color: white;}#sk-container-id-1 div.sk-parallel-item:first-child::after {align-self: flex-end;width: 50%;}#sk-container-id-1 div.sk-parallel-item:last-child::after {align-self: flex-start;width: 50%;}#sk-container-id-1 div.sk-parallel-item:only-child::after {width: 0;}#sk-container-id-1 div.sk-dashed-wrapped {border: 1px dashed gray;margin: 0 0.4em 0.5em 0.4em;box-sizing: border-box;padding-bottom: 0.4em;background-color: white;}#sk-container-id-1 div.sk-label label {font-family: monospace;font-weight: bold;display: inline-block;line-height: 1.2em;}#sk-container-id-1 div.sk-label-container {text-align: center;}#sk-container-id-1 div.sk-container {/* jupyter's `normalize.less` sets `[hidden] { display: none; }` but bootstrap.min.css set `[hidden] { display: none !important; }` so we also need the `!important` here to be able to override the default hidden behavior on the sphinx rendered scikit-learn.org. See: https://github.com/scikit-learn/scikit-learn/issues/21755 */display: inline-block !important;position: relative;}#sk-container-id-1 div.sk-text-repr-fallback {display: none;}</style><div id=\"sk-container-id-1\" class=\"sk-top-container\"><div class=\"sk-text-repr-fallback\"><pre>Pipeline(steps=[(&#x27;scale&#x27;, StandardScaler()),\n",
       "                (&#x27;polynomial&#x27;, PolynomialFeatures()),\n",
       "                (&#x27;model&#x27;, LinearRegression())])</pre><b>In a Jupyter environment, please rerun this cell to show the HTML representation or trust the notebook. <br />On GitHub, the HTML representation is unable to render, please try loading this page with nbviewer.org.</b></div><div class=\"sk-container\" hidden><div class=\"sk-item sk-dashed-wrapped\"><div class=\"sk-label-container\"><div class=\"sk-label sk-toggleable\"><input class=\"sk-toggleable__control sk-hidden--visually\" id=\"sk-estimator-id-1\" type=\"checkbox\" ><label for=\"sk-estimator-id-1\" class=\"sk-toggleable__label sk-toggleable__label-arrow\">Pipeline</label><div class=\"sk-toggleable__content\"><pre>Pipeline(steps=[(&#x27;scale&#x27;, StandardScaler()),\n",
       "                (&#x27;polynomial&#x27;, PolynomialFeatures()),\n",
       "                (&#x27;model&#x27;, LinearRegression())])</pre></div></div></div><div class=\"sk-serial\"><div class=\"sk-item\"><div class=\"sk-estimator sk-toggleable\"><input class=\"sk-toggleable__control sk-hidden--visually\" id=\"sk-estimator-id-2\" type=\"checkbox\" ><label for=\"sk-estimator-id-2\" class=\"sk-toggleable__label sk-toggleable__label-arrow\">StandardScaler</label><div class=\"sk-toggleable__content\"><pre>StandardScaler()</pre></div></div></div><div class=\"sk-item\"><div class=\"sk-estimator sk-toggleable\"><input class=\"sk-toggleable__control sk-hidden--visually\" id=\"sk-estimator-id-3\" type=\"checkbox\" ><label for=\"sk-estimator-id-3\" class=\"sk-toggleable__label sk-toggleable__label-arrow\">PolynomialFeatures</label><div class=\"sk-toggleable__content\"><pre>PolynomialFeatures()</pre></div></div></div><div class=\"sk-item\"><div class=\"sk-estimator sk-toggleable\"><input class=\"sk-toggleable__control sk-hidden--visually\" id=\"sk-estimator-id-4\" type=\"checkbox\" ><label for=\"sk-estimator-id-4\" class=\"sk-toggleable__label sk-toggleable__label-arrow\">LinearRegression</label><div class=\"sk-toggleable__content\"><pre>LinearRegression()</pre></div></div></div></div></div></div></div>"
      ],
      "text/plain": [
       "Pipeline(steps=[('scale', StandardScaler()),\n",
       "                ('polynomial', PolynomialFeatures()),\n",
       "                ('model', LinearRegression())])"
      ]
     },
     "execution_count": 33,
     "metadata": {},
     "output_type": "execute_result"
    }
   ],
   "source": [
    "input = [('scale',StandardScaler()),('polynomial', PolynomialFeatures(degree=2)),('model',LinearRegression())]\n",
    "pipe = Pipeline(input)\n",
    "pipe"
   ]
  },
  {
   "cell_type": "code",
   "execution_count": 34,
   "id": "4140fe88",
   "metadata": {
    "scrolled": true
   },
   "outputs": [
    {
     "data": {
      "text/plain": [
       "0.6025716278270568"
      ]
     },
     "execution_count": 34,
     "metadata": {},
     "output_type": "execute_result"
    }
   ],
   "source": [
    "#training the model\n",
    "pipe.fit(X_train,y_train)\n",
    "pipe.score(X_test,y_test)"
   ]
  },
  {
   "cell_type": "code",
   "execution_count": 67,
   "id": "c27bba0b",
   "metadata": {},
   "outputs": [],
   "source": [
    "from sklearn.metrics import r2_score,mean_squared_error"
   ]
  },
  {
   "cell_type": "code",
   "execution_count": 36,
   "id": "c58822c2",
   "metadata": {},
   "outputs": [
    {
     "data": {
      "text/plain": [
       "0.6025716278270568"
      ]
     },
     "execution_count": 36,
     "metadata": {},
     "output_type": "execute_result"
    }
   ],
   "source": [
    "#testing the model\n",
    "pipe_pred = pipe.predict(X_test)\n",
    "r2_score(y_test,pipe_pred)"
   ]
  },
  {
   "cell_type": "code",
   "execution_count": 37,
   "id": "4ad0d278",
   "metadata": {},
   "outputs": [],
   "source": [
    "from sklearn.svm import SVR"
   ]
  },
  {
   "cell_type": "code",
   "execution_count": 38,
   "id": "b1c586a9",
   "metadata": {},
   "outputs": [],
   "source": [
    "svr = SVR(kernel='linear')"
   ]
  },
  {
   "cell_type": "code",
   "execution_count": 39,
   "id": "c0946b4c",
   "metadata": {},
   "outputs": [
    {
     "data": {
      "text/html": [
       "<style>#sk-container-id-2 {color: black;}#sk-container-id-2 pre{padding: 0;}#sk-container-id-2 div.sk-toggleable {background-color: white;}#sk-container-id-2 label.sk-toggleable__label {cursor: pointer;display: block;width: 100%;margin-bottom: 0;padding: 0.3em;box-sizing: border-box;text-align: center;}#sk-container-id-2 label.sk-toggleable__label-arrow:before {content: \"▸\";float: left;margin-right: 0.25em;color: #696969;}#sk-container-id-2 label.sk-toggleable__label-arrow:hover:before {color: black;}#sk-container-id-2 div.sk-estimator:hover label.sk-toggleable__label-arrow:before {color: black;}#sk-container-id-2 div.sk-toggleable__content {max-height: 0;max-width: 0;overflow: hidden;text-align: left;background-color: #f0f8ff;}#sk-container-id-2 div.sk-toggleable__content pre {margin: 0.2em;color: black;border-radius: 0.25em;background-color: #f0f8ff;}#sk-container-id-2 input.sk-toggleable__control:checked~div.sk-toggleable__content {max-height: 200px;max-width: 100%;overflow: auto;}#sk-container-id-2 input.sk-toggleable__control:checked~label.sk-toggleable__label-arrow:before {content: \"▾\";}#sk-container-id-2 div.sk-estimator input.sk-toggleable__control:checked~label.sk-toggleable__label {background-color: #d4ebff;}#sk-container-id-2 div.sk-label input.sk-toggleable__control:checked~label.sk-toggleable__label {background-color: #d4ebff;}#sk-container-id-2 input.sk-hidden--visually {border: 0;clip: rect(1px 1px 1px 1px);clip: rect(1px, 1px, 1px, 1px);height: 1px;margin: -1px;overflow: hidden;padding: 0;position: absolute;width: 1px;}#sk-container-id-2 div.sk-estimator {font-family: monospace;background-color: #f0f8ff;border: 1px dotted black;border-radius: 0.25em;box-sizing: border-box;margin-bottom: 0.5em;}#sk-container-id-2 div.sk-estimator:hover {background-color: #d4ebff;}#sk-container-id-2 div.sk-parallel-item::after {content: \"\";width: 100%;border-bottom: 1px solid gray;flex-grow: 1;}#sk-container-id-2 div.sk-label:hover label.sk-toggleable__label {background-color: #d4ebff;}#sk-container-id-2 div.sk-serial::before {content: \"\";position: absolute;border-left: 1px solid gray;box-sizing: border-box;top: 0;bottom: 0;left: 50%;z-index: 0;}#sk-container-id-2 div.sk-serial {display: flex;flex-direction: column;align-items: center;background-color: white;padding-right: 0.2em;padding-left: 0.2em;position: relative;}#sk-container-id-2 div.sk-item {position: relative;z-index: 1;}#sk-container-id-2 div.sk-parallel {display: flex;align-items: stretch;justify-content: center;background-color: white;position: relative;}#sk-container-id-2 div.sk-item::before, #sk-container-id-2 div.sk-parallel-item::before {content: \"\";position: absolute;border-left: 1px solid gray;box-sizing: border-box;top: 0;bottom: 0;left: 50%;z-index: -1;}#sk-container-id-2 div.sk-parallel-item {display: flex;flex-direction: column;z-index: 1;position: relative;background-color: white;}#sk-container-id-2 div.sk-parallel-item:first-child::after {align-self: flex-end;width: 50%;}#sk-container-id-2 div.sk-parallel-item:last-child::after {align-self: flex-start;width: 50%;}#sk-container-id-2 div.sk-parallel-item:only-child::after {width: 0;}#sk-container-id-2 div.sk-dashed-wrapped {border: 1px dashed gray;margin: 0 0.4em 0.5em 0.4em;box-sizing: border-box;padding-bottom: 0.4em;background-color: white;}#sk-container-id-2 div.sk-label label {font-family: monospace;font-weight: bold;display: inline-block;line-height: 1.2em;}#sk-container-id-2 div.sk-label-container {text-align: center;}#sk-container-id-2 div.sk-container {/* jupyter's `normalize.less` sets `[hidden] { display: none; }` but bootstrap.min.css set `[hidden] { display: none !important; }` so we also need the `!important` here to be able to override the default hidden behavior on the sphinx rendered scikit-learn.org. See: https://github.com/scikit-learn/scikit-learn/issues/21755 */display: inline-block !important;position: relative;}#sk-container-id-2 div.sk-text-repr-fallback {display: none;}</style><div id=\"sk-container-id-2\" class=\"sk-top-container\"><div class=\"sk-text-repr-fallback\"><pre>SVR(kernel=&#x27;linear&#x27;)</pre><b>In a Jupyter environment, please rerun this cell to show the HTML representation or trust the notebook. <br />On GitHub, the HTML representation is unable to render, please try loading this page with nbviewer.org.</b></div><div class=\"sk-container\" hidden><div class=\"sk-item\"><div class=\"sk-estimator sk-toggleable\"><input class=\"sk-toggleable__control sk-hidden--visually\" id=\"sk-estimator-id-5\" type=\"checkbox\" checked><label for=\"sk-estimator-id-5\" class=\"sk-toggleable__label sk-toggleable__label-arrow\">SVR</label><div class=\"sk-toggleable__content\"><pre>SVR(kernel=&#x27;linear&#x27;)</pre></div></div></div></div></div>"
      ],
      "text/plain": [
       "SVR(kernel='linear')"
      ]
     },
     "execution_count": 39,
     "metadata": {},
     "output_type": "execute_result"
    }
   ],
   "source": [
    "svr.fit(X_train,y_train)"
   ]
  },
  {
   "cell_type": "code",
   "execution_count": 40,
   "id": "063b2083",
   "metadata": {},
   "outputs": [
    {
     "data": {
      "text/plain": [
       "0.5713110935501111"
      ]
     },
     "execution_count": 40,
     "metadata": {},
     "output_type": "execute_result"
    }
   ],
   "source": [
    "\n",
    "\n",
    "svr.score(X_test,y_test)"
   ]
  },
  {
   "cell_type": "code",
   "execution_count": 41,
   "id": "9c248c76",
   "metadata": {},
   "outputs": [
    {
     "data": {
      "text/plain": [
       "0.5713110935501111"
      ]
     },
     "execution_count": 41,
     "metadata": {},
     "output_type": "execute_result"
    }
   ],
   "source": [
    "#testing the model\n",
    "svr_pred = svr.predict(X_test)\n",
    "r2_score(y_test,svr_pred)"
   ]
  },
  {
   "cell_type": "code",
   "execution_count": 42,
   "id": "519747ac",
   "metadata": {},
   "outputs": [],
   "source": [
    "from sklearn.ensemble import RandomForestRegressor"
   ]
  },
  {
   "cell_type": "code",
   "execution_count": 43,
   "id": "643efdfe",
   "metadata": {},
   "outputs": [],
   "source": [
    "rnd = RandomForestRegressor(n_estimators=100, random_state=42)"
   ]
  },
  {
   "cell_type": "code",
   "execution_count": 44,
   "id": "294594ca",
   "metadata": {},
   "outputs": [
    {
     "data": {
      "text/html": [
       "<style>#sk-container-id-3 {color: black;}#sk-container-id-3 pre{padding: 0;}#sk-container-id-3 div.sk-toggleable {background-color: white;}#sk-container-id-3 label.sk-toggleable__label {cursor: pointer;display: block;width: 100%;margin-bottom: 0;padding: 0.3em;box-sizing: border-box;text-align: center;}#sk-container-id-3 label.sk-toggleable__label-arrow:before {content: \"▸\";float: left;margin-right: 0.25em;color: #696969;}#sk-container-id-3 label.sk-toggleable__label-arrow:hover:before {color: black;}#sk-container-id-3 div.sk-estimator:hover label.sk-toggleable__label-arrow:before {color: black;}#sk-container-id-3 div.sk-toggleable__content {max-height: 0;max-width: 0;overflow: hidden;text-align: left;background-color: #f0f8ff;}#sk-container-id-3 div.sk-toggleable__content pre {margin: 0.2em;color: black;border-radius: 0.25em;background-color: #f0f8ff;}#sk-container-id-3 input.sk-toggleable__control:checked~div.sk-toggleable__content {max-height: 200px;max-width: 100%;overflow: auto;}#sk-container-id-3 input.sk-toggleable__control:checked~label.sk-toggleable__label-arrow:before {content: \"▾\";}#sk-container-id-3 div.sk-estimator input.sk-toggleable__control:checked~label.sk-toggleable__label {background-color: #d4ebff;}#sk-container-id-3 div.sk-label input.sk-toggleable__control:checked~label.sk-toggleable__label {background-color: #d4ebff;}#sk-container-id-3 input.sk-hidden--visually {border: 0;clip: rect(1px 1px 1px 1px);clip: rect(1px, 1px, 1px, 1px);height: 1px;margin: -1px;overflow: hidden;padding: 0;position: absolute;width: 1px;}#sk-container-id-3 div.sk-estimator {font-family: monospace;background-color: #f0f8ff;border: 1px dotted black;border-radius: 0.25em;box-sizing: border-box;margin-bottom: 0.5em;}#sk-container-id-3 div.sk-estimator:hover {background-color: #d4ebff;}#sk-container-id-3 div.sk-parallel-item::after {content: \"\";width: 100%;border-bottom: 1px solid gray;flex-grow: 1;}#sk-container-id-3 div.sk-label:hover label.sk-toggleable__label {background-color: #d4ebff;}#sk-container-id-3 div.sk-serial::before {content: \"\";position: absolute;border-left: 1px solid gray;box-sizing: border-box;top: 0;bottom: 0;left: 50%;z-index: 0;}#sk-container-id-3 div.sk-serial {display: flex;flex-direction: column;align-items: center;background-color: white;padding-right: 0.2em;padding-left: 0.2em;position: relative;}#sk-container-id-3 div.sk-item {position: relative;z-index: 1;}#sk-container-id-3 div.sk-parallel {display: flex;align-items: stretch;justify-content: center;background-color: white;position: relative;}#sk-container-id-3 div.sk-item::before, #sk-container-id-3 div.sk-parallel-item::before {content: \"\";position: absolute;border-left: 1px solid gray;box-sizing: border-box;top: 0;bottom: 0;left: 50%;z-index: -1;}#sk-container-id-3 div.sk-parallel-item {display: flex;flex-direction: column;z-index: 1;position: relative;background-color: white;}#sk-container-id-3 div.sk-parallel-item:first-child::after {align-self: flex-end;width: 50%;}#sk-container-id-3 div.sk-parallel-item:last-child::after {align-self: flex-start;width: 50%;}#sk-container-id-3 div.sk-parallel-item:only-child::after {width: 0;}#sk-container-id-3 div.sk-dashed-wrapped {border: 1px dashed gray;margin: 0 0.4em 0.5em 0.4em;box-sizing: border-box;padding-bottom: 0.4em;background-color: white;}#sk-container-id-3 div.sk-label label {font-family: monospace;font-weight: bold;display: inline-block;line-height: 1.2em;}#sk-container-id-3 div.sk-label-container {text-align: center;}#sk-container-id-3 div.sk-container {/* jupyter's `normalize.less` sets `[hidden] { display: none; }` but bootstrap.min.css set `[hidden] { display: none !important; }` so we also need the `!important` here to be able to override the default hidden behavior on the sphinx rendered scikit-learn.org. See: https://github.com/scikit-learn/scikit-learn/issues/21755 */display: inline-block !important;position: relative;}#sk-container-id-3 div.sk-text-repr-fallback {display: none;}</style><div id=\"sk-container-id-3\" class=\"sk-top-container\"><div class=\"sk-text-repr-fallback\"><pre>RandomForestRegressor(random_state=42)</pre><b>In a Jupyter environment, please rerun this cell to show the HTML representation or trust the notebook. <br />On GitHub, the HTML representation is unable to render, please try loading this page with nbviewer.org.</b></div><div class=\"sk-container\" hidden><div class=\"sk-item\"><div class=\"sk-estimator sk-toggleable\"><input class=\"sk-toggleable__control sk-hidden--visually\" id=\"sk-estimator-id-6\" type=\"checkbox\" checked><label for=\"sk-estimator-id-6\" class=\"sk-toggleable__label sk-toggleable__label-arrow\">RandomForestRegressor</label><div class=\"sk-toggleable__content\"><pre>RandomForestRegressor(random_state=42)</pre></div></div></div></div></div>"
      ],
      "text/plain": [
       "RandomForestRegressor(random_state=42)"
      ]
     },
     "execution_count": 44,
     "metadata": {},
     "output_type": "execute_result"
    }
   ],
   "source": [
    "rnd.fit(X_train,y_train)"
   ]
  },
  {
   "cell_type": "code",
   "execution_count": 45,
   "id": "4f2b6a99",
   "metadata": {
    "scrolled": true
   },
   "outputs": [
    {
     "data": {
      "text/plain": [
       "0.7357251411828517"
      ]
     },
     "execution_count": 45,
     "metadata": {},
     "output_type": "execute_result"
    }
   ],
   "source": [
    "rnd.score(X_test,y_test)"
   ]
  },
  {
   "cell_type": "code",
   "execution_count": 51,
   "id": "620b3881",
   "metadata": {},
   "outputs": [
    {
     "data": {
      "text/plain": [
       "0.7357251411828517"
      ]
     },
     "execution_count": 51,
     "metadata": {},
     "output_type": "execute_result"
    }
   ],
   "source": [
    "#testing the model\n",
    "rnd_pred = rnd.predict(X_test)\n",
    "r2_score(y_test,rnd_pred)"
   ]
  },
  {
   "cell_type": "code",
   "execution_count": 46,
   "id": "53a9f55b",
   "metadata": {},
   "outputs": [],
   "source": [
    "from sklearn.tree import DecisionTreeRegressor"
   ]
  },
  {
   "cell_type": "code",
   "execution_count": 47,
   "id": "3cf9aa35",
   "metadata": {},
   "outputs": [],
   "source": [
    "dt=DecisionTreeRegressor()"
   ]
  },
  {
   "cell_type": "code",
   "execution_count": 48,
   "id": "62634e14",
   "metadata": {
    "scrolled": true
   },
   "outputs": [
    {
     "data": {
      "text/html": [
       "<style>#sk-container-id-4 {color: black;}#sk-container-id-4 pre{padding: 0;}#sk-container-id-4 div.sk-toggleable {background-color: white;}#sk-container-id-4 label.sk-toggleable__label {cursor: pointer;display: block;width: 100%;margin-bottom: 0;padding: 0.3em;box-sizing: border-box;text-align: center;}#sk-container-id-4 label.sk-toggleable__label-arrow:before {content: \"▸\";float: left;margin-right: 0.25em;color: #696969;}#sk-container-id-4 label.sk-toggleable__label-arrow:hover:before {color: black;}#sk-container-id-4 div.sk-estimator:hover label.sk-toggleable__label-arrow:before {color: black;}#sk-container-id-4 div.sk-toggleable__content {max-height: 0;max-width: 0;overflow: hidden;text-align: left;background-color: #f0f8ff;}#sk-container-id-4 div.sk-toggleable__content pre {margin: 0.2em;color: black;border-radius: 0.25em;background-color: #f0f8ff;}#sk-container-id-4 input.sk-toggleable__control:checked~div.sk-toggleable__content {max-height: 200px;max-width: 100%;overflow: auto;}#sk-container-id-4 input.sk-toggleable__control:checked~label.sk-toggleable__label-arrow:before {content: \"▾\";}#sk-container-id-4 div.sk-estimator input.sk-toggleable__control:checked~label.sk-toggleable__label {background-color: #d4ebff;}#sk-container-id-4 div.sk-label input.sk-toggleable__control:checked~label.sk-toggleable__label {background-color: #d4ebff;}#sk-container-id-4 input.sk-hidden--visually {border: 0;clip: rect(1px 1px 1px 1px);clip: rect(1px, 1px, 1px, 1px);height: 1px;margin: -1px;overflow: hidden;padding: 0;position: absolute;width: 1px;}#sk-container-id-4 div.sk-estimator {font-family: monospace;background-color: #f0f8ff;border: 1px dotted black;border-radius: 0.25em;box-sizing: border-box;margin-bottom: 0.5em;}#sk-container-id-4 div.sk-estimator:hover {background-color: #d4ebff;}#sk-container-id-4 div.sk-parallel-item::after {content: \"\";width: 100%;border-bottom: 1px solid gray;flex-grow: 1;}#sk-container-id-4 div.sk-label:hover label.sk-toggleable__label {background-color: #d4ebff;}#sk-container-id-4 div.sk-serial::before {content: \"\";position: absolute;border-left: 1px solid gray;box-sizing: border-box;top: 0;bottom: 0;left: 50%;z-index: 0;}#sk-container-id-4 div.sk-serial {display: flex;flex-direction: column;align-items: center;background-color: white;padding-right: 0.2em;padding-left: 0.2em;position: relative;}#sk-container-id-4 div.sk-item {position: relative;z-index: 1;}#sk-container-id-4 div.sk-parallel {display: flex;align-items: stretch;justify-content: center;background-color: white;position: relative;}#sk-container-id-4 div.sk-item::before, #sk-container-id-4 div.sk-parallel-item::before {content: \"\";position: absolute;border-left: 1px solid gray;box-sizing: border-box;top: 0;bottom: 0;left: 50%;z-index: -1;}#sk-container-id-4 div.sk-parallel-item {display: flex;flex-direction: column;z-index: 1;position: relative;background-color: white;}#sk-container-id-4 div.sk-parallel-item:first-child::after {align-self: flex-end;width: 50%;}#sk-container-id-4 div.sk-parallel-item:last-child::after {align-self: flex-start;width: 50%;}#sk-container-id-4 div.sk-parallel-item:only-child::after {width: 0;}#sk-container-id-4 div.sk-dashed-wrapped {border: 1px dashed gray;margin: 0 0.4em 0.5em 0.4em;box-sizing: border-box;padding-bottom: 0.4em;background-color: white;}#sk-container-id-4 div.sk-label label {font-family: monospace;font-weight: bold;display: inline-block;line-height: 1.2em;}#sk-container-id-4 div.sk-label-container {text-align: center;}#sk-container-id-4 div.sk-container {/* jupyter's `normalize.less` sets `[hidden] { display: none; }` but bootstrap.min.css set `[hidden] { display: none !important; }` so we also need the `!important` here to be able to override the default hidden behavior on the sphinx rendered scikit-learn.org. See: https://github.com/scikit-learn/scikit-learn/issues/21755 */display: inline-block !important;position: relative;}#sk-container-id-4 div.sk-text-repr-fallback {display: none;}</style><div id=\"sk-container-id-4\" class=\"sk-top-container\"><div class=\"sk-text-repr-fallback\"><pre>DecisionTreeRegressor()</pre><b>In a Jupyter environment, please rerun this cell to show the HTML representation or trust the notebook. <br />On GitHub, the HTML representation is unable to render, please try loading this page with nbviewer.org.</b></div><div class=\"sk-container\" hidden><div class=\"sk-item\"><div class=\"sk-estimator sk-toggleable\"><input class=\"sk-toggleable__control sk-hidden--visually\" id=\"sk-estimator-id-7\" type=\"checkbox\" checked><label for=\"sk-estimator-id-7\" class=\"sk-toggleable__label sk-toggleable__label-arrow\">DecisionTreeRegressor</label><div class=\"sk-toggleable__content\"><pre>DecisionTreeRegressor()</pre></div></div></div></div></div>"
      ],
      "text/plain": [
       "DecisionTreeRegressor()"
      ]
     },
     "execution_count": 48,
     "metadata": {},
     "output_type": "execute_result"
    }
   ],
   "source": [
    "dt.fit(X_train,y_train)"
   ]
  },
  {
   "cell_type": "code",
   "execution_count": 49,
   "id": "9a7f98a2",
   "metadata": {
    "scrolled": true
   },
   "outputs": [
    {
     "data": {
      "text/plain": [
       "0.6489725879038066"
      ]
     },
     "execution_count": 49,
     "metadata": {},
     "output_type": "execute_result"
    }
   ],
   "source": [
    "dt.score(X_test,y_test)"
   ]
  },
  {
   "cell_type": "code",
   "execution_count": 59,
   "id": "c4cd5033",
   "metadata": {},
   "outputs": [
    {
     "data": {
      "text/plain": [
       "0.6489725879038066"
      ]
     },
     "execution_count": 59,
     "metadata": {},
     "output_type": "execute_result"
    }
   ],
   "source": [
    "#testing the model\n",
    "dt_pred = dt.predict(X_test)\n",
    "r2_score(y_test,dt_pred)"
   ]
  },
  {
   "cell_type": "code",
   "execution_count": 52,
   "id": "a1e71622",
   "metadata": {},
   "outputs": [],
   "source": [
    "from sklearn.ensemble import GradientBoostingRegressor"
   ]
  },
  {
   "cell_type": "code",
   "execution_count": 53,
   "id": "75d9878f",
   "metadata": {},
   "outputs": [],
   "source": [
    "gbr = GradientBoostingRegressor(n_estimators=100, learning_rate=0.1, random_state=42) "
   ]
  },
  {
   "cell_type": "code",
   "execution_count": 54,
   "id": "afcb1b6e",
   "metadata": {
    "scrolled": true
   },
   "outputs": [
    {
     "data": {
      "text/html": [
       "<style>#sk-container-id-5 {color: black;}#sk-container-id-5 pre{padding: 0;}#sk-container-id-5 div.sk-toggleable {background-color: white;}#sk-container-id-5 label.sk-toggleable__label {cursor: pointer;display: block;width: 100%;margin-bottom: 0;padding: 0.3em;box-sizing: border-box;text-align: center;}#sk-container-id-5 label.sk-toggleable__label-arrow:before {content: \"▸\";float: left;margin-right: 0.25em;color: #696969;}#sk-container-id-5 label.sk-toggleable__label-arrow:hover:before {color: black;}#sk-container-id-5 div.sk-estimator:hover label.sk-toggleable__label-arrow:before {color: black;}#sk-container-id-5 div.sk-toggleable__content {max-height: 0;max-width: 0;overflow: hidden;text-align: left;background-color: #f0f8ff;}#sk-container-id-5 div.sk-toggleable__content pre {margin: 0.2em;color: black;border-radius: 0.25em;background-color: #f0f8ff;}#sk-container-id-5 input.sk-toggleable__control:checked~div.sk-toggleable__content {max-height: 200px;max-width: 100%;overflow: auto;}#sk-container-id-5 input.sk-toggleable__control:checked~label.sk-toggleable__label-arrow:before {content: \"▾\";}#sk-container-id-5 div.sk-estimator input.sk-toggleable__control:checked~label.sk-toggleable__label {background-color: #d4ebff;}#sk-container-id-5 div.sk-label input.sk-toggleable__control:checked~label.sk-toggleable__label {background-color: #d4ebff;}#sk-container-id-5 input.sk-hidden--visually {border: 0;clip: rect(1px 1px 1px 1px);clip: rect(1px, 1px, 1px, 1px);height: 1px;margin: -1px;overflow: hidden;padding: 0;position: absolute;width: 1px;}#sk-container-id-5 div.sk-estimator {font-family: monospace;background-color: #f0f8ff;border: 1px dotted black;border-radius: 0.25em;box-sizing: border-box;margin-bottom: 0.5em;}#sk-container-id-5 div.sk-estimator:hover {background-color: #d4ebff;}#sk-container-id-5 div.sk-parallel-item::after {content: \"\";width: 100%;border-bottom: 1px solid gray;flex-grow: 1;}#sk-container-id-5 div.sk-label:hover label.sk-toggleable__label {background-color: #d4ebff;}#sk-container-id-5 div.sk-serial::before {content: \"\";position: absolute;border-left: 1px solid gray;box-sizing: border-box;top: 0;bottom: 0;left: 50%;z-index: 0;}#sk-container-id-5 div.sk-serial {display: flex;flex-direction: column;align-items: center;background-color: white;padding-right: 0.2em;padding-left: 0.2em;position: relative;}#sk-container-id-5 div.sk-item {position: relative;z-index: 1;}#sk-container-id-5 div.sk-parallel {display: flex;align-items: stretch;justify-content: center;background-color: white;position: relative;}#sk-container-id-5 div.sk-item::before, #sk-container-id-5 div.sk-parallel-item::before {content: \"\";position: absolute;border-left: 1px solid gray;box-sizing: border-box;top: 0;bottom: 0;left: 50%;z-index: -1;}#sk-container-id-5 div.sk-parallel-item {display: flex;flex-direction: column;z-index: 1;position: relative;background-color: white;}#sk-container-id-5 div.sk-parallel-item:first-child::after {align-self: flex-end;width: 50%;}#sk-container-id-5 div.sk-parallel-item:last-child::after {align-self: flex-start;width: 50%;}#sk-container-id-5 div.sk-parallel-item:only-child::after {width: 0;}#sk-container-id-5 div.sk-dashed-wrapped {border: 1px dashed gray;margin: 0 0.4em 0.5em 0.4em;box-sizing: border-box;padding-bottom: 0.4em;background-color: white;}#sk-container-id-5 div.sk-label label {font-family: monospace;font-weight: bold;display: inline-block;line-height: 1.2em;}#sk-container-id-5 div.sk-label-container {text-align: center;}#sk-container-id-5 div.sk-container {/* jupyter's `normalize.less` sets `[hidden] { display: none; }` but bootstrap.min.css set `[hidden] { display: none !important; }` so we also need the `!important` here to be able to override the default hidden behavior on the sphinx rendered scikit-learn.org. See: https://github.com/scikit-learn/scikit-learn/issues/21755 */display: inline-block !important;position: relative;}#sk-container-id-5 div.sk-text-repr-fallback {display: none;}</style><div id=\"sk-container-id-5\" class=\"sk-top-container\"><div class=\"sk-text-repr-fallback\"><pre>GradientBoostingRegressor(random_state=42)</pre><b>In a Jupyter environment, please rerun this cell to show the HTML representation or trust the notebook. <br />On GitHub, the HTML representation is unable to render, please try loading this page with nbviewer.org.</b></div><div class=\"sk-container\" hidden><div class=\"sk-item\"><div class=\"sk-estimator sk-toggleable\"><input class=\"sk-toggleable__control sk-hidden--visually\" id=\"sk-estimator-id-8\" type=\"checkbox\" checked><label for=\"sk-estimator-id-8\" class=\"sk-toggleable__label sk-toggleable__label-arrow\">GradientBoostingRegressor</label><div class=\"sk-toggleable__content\"><pre>GradientBoostingRegressor(random_state=42)</pre></div></div></div></div></div>"
      ],
      "text/plain": [
       "GradientBoostingRegressor(random_state=42)"
      ]
     },
     "execution_count": 54,
     "metadata": {},
     "output_type": "execute_result"
    }
   ],
   "source": [
    "gbr.fit(X_train,y_train)"
   ]
  },
  {
   "cell_type": "code",
   "execution_count": 55,
   "id": "9385435b",
   "metadata": {},
   "outputs": [
    {
     "data": {
      "text/plain": [
       "0.7049795813073276"
      ]
     },
     "execution_count": 55,
     "metadata": {},
     "output_type": "execute_result"
    }
   ],
   "source": [
    "gbr.score(X_test,y_test)"
   ]
  },
  {
   "cell_type": "code",
   "execution_count": 56,
   "id": "ebce6799",
   "metadata": {
    "scrolled": true
   },
   "outputs": [
    {
     "data": {
      "text/plain": [
       "0.7049795813073276"
      ]
     },
     "execution_count": 56,
     "metadata": {},
     "output_type": "execute_result"
    }
   ],
   "source": [
    "#testing the model\n",
    "gbr_pred = gbr.predict(X_test)\n",
    "r2_score(y_test,gbr_pred)"
   ]
  },
  {
   "cell_type": "markdown",
   "id": "70f52ee7",
   "metadata": {},
   "source": [
    "## after Applying basic to advanced algorithms we got 73% by randomforest \n",
    "## Note : Due To low amount of data we got less Accuracy"
   ]
  },
  {
   "cell_type": "code",
   "execution_count": 65,
   "id": "02ab73ce",
   "metadata": {
    "scrolled": false
   },
   "outputs": [
    {
     "data": {
      "application/javascript": [
       "\n",
       "        if (window._pyforest_update_imports_cell) { window._pyforest_update_imports_cell('from sklearn import metrics'); }\n",
       "    "
      ],
      "text/plain": [
       "<IPython.core.display.Javascript object>"
      ]
     },
     "metadata": {},
     "output_type": "display_data"
    },
    {
     "data": {
      "application/javascript": [
       "\n",
       "        if (window._pyforest_update_imports_cell) { window._pyforest_update_imports_cell('from sklearn import metrics'); }\n",
       "    "
      ],
      "text/plain": [
       "<IPython.core.display.Javascript object>"
      ]
     },
     "metadata": {},
     "output_type": "display_data"
    },
    {
     "data": {
      "application/javascript": [
       "\n",
       "        if (window._pyforest_update_imports_cell) { window._pyforest_update_imports_cell('from sklearn import metrics'); }\n",
       "    "
      ],
      "text/plain": [
       "<IPython.core.display.Javascript object>"
      ]
     },
     "metadata": {},
     "output_type": "display_data"
    },
    {
     "data": {
      "application/javascript": [
       "\n",
       "        if (window._pyforest_update_imports_cell) { window._pyforest_update_imports_cell('from sklearn import metrics'); }\n",
       "    "
      ],
      "text/plain": [
       "<IPython.core.display.Javascript object>"
      ]
     },
     "metadata": {},
     "output_type": "display_data"
    },
    {
     "data": {
      "application/javascript": [
       "\n",
       "        if (window._pyforest_update_imports_cell) { window._pyforest_update_imports_cell('from sklearn import metrics'); }\n",
       "    "
      ],
      "text/plain": [
       "<IPython.core.display.Javascript object>"
      ]
     },
     "metadata": {},
     "output_type": "display_data"
    },
    {
     "data": {
      "image/png": "[encoded data removed]",
      "text/plain": [
       "<Figure size 1500x500 with 1 Axes>"
      ]
     },
     "metadata": {},
     "output_type": "display_data"
    }
   ],
   "source": [
    "# plot accuracy of all models in the same graph\n",
    "fig, ax = plt.subplots(figsize=(15,5))\n",
    "sns.barplot(x=['Linear Regression','support vecotor regressor','Random Forest Regression','Decision Tree','GradientBoostingRegressor'],y=[metrics.r2_score(y_test,pipe_pred),metrics.r2_score(y_test,svr_pred),metrics.r2_score(y_test,rnd_pred),metrics.r2_score(y_test,dt_pred),metrics.r2_score(y_test,gbr_pred)])\n",
    "ax.set_title('Accuracy of all models')\n",
    "plt.show()"
   ]
  },
  {
   "cell_type": "code",
   "execution_count": 72,
   "id": "833fc997",
   "metadata": {
    "scrolled": true
   },
   "outputs": [
    {
     "data": {
      "application/javascript": [
       "\n",
       "        if (window._pyforest_update_imports_cell) { window._pyforest_update_imports_cell('from sklearn import metrics'); }\n",
       "    "
      ],
      "text/plain": [
       "<IPython.core.display.Javascript object>"
      ]
     },
     "metadata": {},
     "output_type": "display_data"
    },
    {
     "data": {
      "application/javascript": [
       "\n",
       "        if (window._pyforest_update_imports_cell) { window._pyforest_update_imports_cell('from sklearn import metrics'); }\n",
       "    "
      ],
      "text/plain": [
       "<IPython.core.display.Javascript object>"
      ]
     },
     "metadata": {},
     "output_type": "display_data"
    },
    {
     "data": {
      "application/javascript": [
       "\n",
       "        if (window._pyforest_update_imports_cell) { window._pyforest_update_imports_cell('from sklearn import metrics'); }\n",
       "    "
      ],
      "text/plain": [
       "<IPython.core.display.Javascript object>"
      ]
     },
     "metadata": {},
     "output_type": "display_data"
    },
    {
     "data": {
      "application/javascript": [
       "\n",
       "        if (window._pyforest_update_imports_cell) { window._pyforest_update_imports_cell('from sklearn import metrics'); }\n",
       "    "
      ],
      "text/plain": [
       "<IPython.core.display.Javascript object>"
      ]
     },
     "metadata": {},
     "output_type": "display_data"
    },
    {
     "data": {
      "application/javascript": [
       "\n",
       "        if (window._pyforest_update_imports_cell) { window._pyforest_update_imports_cell('from sklearn import metrics'); }\n",
       "    "
      ],
      "text/plain": [
       "<IPython.core.display.Javascript object>"
      ]
     },
     "metadata": {},
     "output_type": "display_data"
    },
    {
     "data": {
      "image/png": "[encoded data removed]",
      "text/plain": [
       "<Figure size 1500x500 with 1 Axes>"
      ]
     },
     "metadata": {},
     "output_type": "display_data"
    }
   ],
   "source": [
    "fig, ax = plt.subplots(figsize=(15,5))\n",
    "sns.barplot(x=['Linear Regression','support vecotor regressor','Random Forest Regression','Decision Tree','GradientBoostingRegressor'],y=[metrics.mean_squared_error(y_test,pipe_pred),metrics.mean_squared_error(y_test,svr_pred),metrics.mean_squared_error(y_test,rnd_pred),metrics.mean_squared_error(y_test,dt_pred),metrics.mean_squared_error(y_test,gbr_pred)])\n",
    "ax.set_title('Mean Squared error of all models')\n",
    "plt.show()"
   ]
  },
  {
   "cell_type": "markdown",
   "id": "490578ae",
   "metadata": {},
   "source": [
    "## Saving Model"
   ]
  },
  {
   "cell_type": "code",
   "execution_count": 73,
   "id": "53b7a4db",
   "metadata": {
    "scrolled": true
   },
   "outputs": [
    {
     "data": {
      "text/plain": [
       "['hyd_house_price_model.pkl']"
      ]
     },
     "execution_count": 73,
     "metadata": {},
     "output_type": "execute_result"
    }
   ],
   "source": [
    "import joblib\n",
    "joblib.dump(rnd, 'hyd_house_price_model.pkl')"
   ]
  },
  {
   "cell_type": "code",
   "execution_count": 75,
   "id": "99676730",
   "metadata": {},
   "outputs": [
    {
     "data": {
      "text/html": [
       "<div>\n",
       "<style scoped>\n",
       "    .dataframe tbody tr th:only-of-type {\n",
       "        vertical-align: middle;\n",
       "    }\n",
       "\n",
       "    .dataframe tbody tr th {\n",
       "        vertical-align: top;\n",
       "    }\n",
       "\n",
       "    .dataframe thead th {\n",
       "        text-align: right;\n",
       "    }\n",
       "</style>\n",
       "<table border=\"1\" class=\"dataframe\">\n",
       "  <thead>\n",
       "    <tr style=\"text-align: right;\">\n",
       "      <th></th>\n",
       "      <th>Price</th>\n",
       "      <th>Area</th>\n",
       "      <th>No. of Bedrooms</th>\n",
       "      <th>Location</th>\n",
       "    </tr>\n",
       "  </thead>\n",
       "  <tbody>\n",
       "    <tr>\n",
       "      <th>0</th>\n",
       "      <td>6968000</td>\n",
       "      <td>1340</td>\n",
       "      <td>2</td>\n",
       "      <td>162</td>\n",
       "    </tr>\n",
       "    <tr>\n",
       "      <th>2</th>\n",
       "      <td>6590000</td>\n",
       "      <td>1318</td>\n",
       "      <td>2</td>\n",
       "      <td>132</td>\n",
       "    </tr>\n",
       "    <tr>\n",
       "      <th>3</th>\n",
       "      <td>5739000</td>\n",
       "      <td>1295</td>\n",
       "      <td>3</td>\n",
       "      <td>9</td>\n",
       "    </tr>\n",
       "    <tr>\n",
       "      <th>4</th>\n",
       "      <td>5679000</td>\n",
       "      <td>1145</td>\n",
       "      <td>2</td>\n",
       "      <td>118</td>\n",
       "    </tr>\n",
       "    <tr>\n",
       "      <th>5</th>\n",
       "      <td>6099000</td>\n",
       "      <td>1230</td>\n",
       "      <td>2</td>\n",
       "      <td>162</td>\n",
       "    </tr>\n",
       "    <tr>\n",
       "      <th>...</th>\n",
       "      <td>...</td>\n",
       "      <td>...</td>\n",
       "      <td>...</td>\n",
       "      <td>...</td>\n",
       "    </tr>\n",
       "    <tr>\n",
       "      <th>2511</th>\n",
       "      <td>4000000</td>\n",
       "      <td>1060</td>\n",
       "      <td>2</td>\n",
       "      <td>220</td>\n",
       "    </tr>\n",
       "    <tr>\n",
       "      <th>2512</th>\n",
       "      <td>6200000</td>\n",
       "      <td>1000</td>\n",
       "      <td>1</td>\n",
       "      <td>150</td>\n",
       "    </tr>\n",
       "    <tr>\n",
       "      <th>2513</th>\n",
       "      <td>11000000</td>\n",
       "      <td>1460</td>\n",
       "      <td>2</td>\n",
       "      <td>150</td>\n",
       "    </tr>\n",
       "    <tr>\n",
       "      <th>2516</th>\n",
       "      <td>10800000</td>\n",
       "      <td>2050</td>\n",
       "      <td>3</td>\n",
       "      <td>85</td>\n",
       "    </tr>\n",
       "    <tr>\n",
       "      <th>2517</th>\n",
       "      <td>10400000</td>\n",
       "      <td>1805</td>\n",
       "      <td>3</td>\n",
       "      <td>158</td>\n",
       "    </tr>\n",
       "  </tbody>\n",
       "</table>\n",
       "<p>2234 rows × 4 columns</p>\n",
       "</div>"
      ],
      "text/plain": [
       "         Price  Area  No. of Bedrooms  Location\n",
       "0      6968000  1340                2       162\n",
       "2      6590000  1318                2       132\n",
       "3      5739000  1295                3         9\n",
       "4      5679000  1145                2       118\n",
       "5      6099000  1230                2       162\n",
       "...        ...   ...              ...       ...\n",
       "2511   4000000  1060                2       220\n",
       "2512   6200000  1000                1       150\n",
       "2513  11000000  1460                2       150\n",
       "2516  10800000  2050                3        85\n",
       "2517  10400000  1805                3       158\n",
       "\n",
       "[2234 rows x 4 columns]"
      ]
     },
     "execution_count": 75,
     "metadata": {},
     "output_type": "execute_result"
    }
   ],
   "source": [
    "result"
   ]
  },
  {
   "cell_type": "code",
   "execution_count": 74,
   "id": "094efc80",
   "metadata": {},
   "outputs": [],
   "source": [
    "model = joblib.load(\"C:/Users/soppoju narender/hyd_house_price_model.pkl\")"
   ]
  },
  {
   "cell_type": "markdown",
   "id": "b082c639",
   "metadata": {},
   "source": [
    "## Prediction"
   ]
  },
  {
   "cell_type": "code",
   "execution_count": 89,
   "id": "0a1f6df1",
   "metadata": {
    "scrolled": true
   },
   "outputs": [
    {
     "name": "stdout",
     "output_type": "stream",
     "text": [
      "The price of the house is $ 11314036.666666664\n"
     ]
    }
   ],
   "source": [
    "#predicting the price using random forest regression\n",
    "price = model.predict([[1805,3,85]])\n",
    "print('The price of the house is $',price[0])"
   ]
  },
  {
   "cell_type": "code",
   "execution_count": 117,
   "id": "f2b6911e",
   "metadata": {
    "scrolled": true
   },
   "outputs": [
    {
     "data": {
      "text/plain": [
       "array(['Nizampet', 'Hitech City', 'Manikonda', 'Alwal', 'Kukatpally',\n",
       "       'Gachibowli', 'Tellapur', 'Kokapet', 'Hyder Nagar', 'Mehdipatnam',\n",
       "       'Narsingi', 'Khajaguda Nanakramguda Road', 'Madhapur',\n",
       "       'Puppalaguda', 'Begumpet', 'Banjara Hills', 'AS Rao Nagar',\n",
       "       'Pragathi Nagar Kukatpally', 'Miyapur', 'Mallampet',\n",
       "       'Nanakramguda', 'Attapur', 'West Marredpally', 'Kompally',\n",
       "       'Sri Nagar Colony', 'Hakimpet', 'Pocharam', 'Nagole', 'LB Nagar',\n",
       "       'Meerpet', 'Kachiguda', 'Masab Tank', 'Kondapur', 'Saroornagar',\n",
       "       'Uppal Kalan', 'Mallapur', 'Rajendra Nagar', 'Beeramguda',\n",
       "       'Moosapet', 'Bachupally', 'Toli Chowki', 'Lakdikapul', 'Tarnaka',\n",
       "       'Kistareddypet', 'Hafeezpet', 'Shaikpet', 'Amberpet', 'Kapra',\n",
       "       'Trimalgherry', 'Habsiguda', 'Sanath Nagar', 'Darga Khaliz Khan',\n",
       "       'Kothaguda', 'Balanagar', 'Jubilee Hills', 'raidurgam',\n",
       "       'Murad Nagar', 'Chandanagar', 'East Marredpally', 'Aminpur',\n",
       "       'Gajularamaram', 'Serilingampally', 'Malkajgiri', 'Mettuguda',\n",
       "       'Venkat Nagar Colony', 'Kondakal', 'Gopanpally', 'Somajiguda',\n",
       "       'Nallagandla Gachibowli', 'Krishna Reddy Pet', 'Bolarum',\n",
       "       'Zamistanpur', 'Madhura Nagar', 'Ghansi Bazaar', 'Chintalakunta',\n",
       "       'Chinthal Basthi', 'Nallakunta', 'Bowenpally', 'Bandlaguda Jagir',\n",
       "       'Boduppal', 'Neknampur', 'Appa Junction Peerancheru',\n",
       "       'Ambedkar Nagar', 'Vanasthalipuram', 'Moula Ali', 'Gandipet',\n",
       "       'Nacharam', 'Appa Junction', 'Qutub Shahi Tombs', 'Abids',\n",
       "       'Dilsukh Nagar', 'Quthbullapur', 'Sainikpuri', 'KTR Colony',\n",
       "       'Bollaram', 'Karmanghat', 'Gajulramaram Kukatpally', 'Uppal',\n",
       "       'Cherlapalli', 'Himayat Nagar', 'Rhoda Mistri Nagar', 'Chintalmet',\n",
       "       'Hitex Road', 'ECIL', 'Boiguda', 'ECIL Main Road',\n",
       "       'ECIL Cross Road', 'Rajbhavan Road Somajiguda',\n",
       "       'Ramachandra Puram', 'TellapurOsman Nagar Road', 'Mansoorabad',\n",
       "       'KRCR Colony Road', 'Pragati Nagar', 'Padmarao Nagar',\n",
       "       'Paramount Colony Toli Chowki', 'BK Guda Internal Road',\n",
       "       'muthangi', 'Pragathi Nagar', 'Yapral', 'Narayanguda', 'Kollur',\n",
       "       'Bachupally Road', 'Old Bowenpally', 'Alapathi Nagar',\n",
       "       'Arvind Nagar Colony', 'Matrusri Nagar', 'Pragathi Nagar Road',\n",
       "       'Padma Colony', 'Happy Homes Colony', 'Old Nallakunta',\n",
       "       'Sangeet Nagar', 'NRSA Colony', 'Adibatla', 'Methodist Colony',\n",
       "       'Ameerpet', 'ALIND Employees Colony', 'Khizra Enclave', 'Medchal',\n",
       "       'Dammaiguda', 'Suchitra', 'Whitefields', 'Mayuri Nagar',\n",
       "       'Adda Gutta', 'Miyapur HMT Swarnapuri Colony',\n",
       "       'Central Excise Colony Hyderabad', 'Basheer Bagh', 'Gopal Nagar',\n",
       "       'Bachupaly Road Miyapur', 'Kushaiguda', 'Ashok Nagar',\n",
       "       'Barkatpura', 'Madinaguda', 'Bagh Amberpet', 'new nallakunta',\n",
       "       'BHEL', 'Sun City', 'Hydershakote', 'BK Guda Road',\n",
       "       'Nallagandla Road', 'IDPL Colony', 'Ramnagar Gundu',\n",
       "       'Alkapur township', 'Banjara Hills Road Number 12',\n",
       "       'Panchavati Colony Manikonda', 'New Maruthi Nagar',\n",
       "       'Madhavaram Nagar Colony', 'Miyapur Bachupally Road',\n",
       "       'nizampet road', 'Kokapeta Village', 'HMT Hills', 'Tilak Nagar',\n",
       "       'Chititra Medchal', 'Isnapur', 'D D Colony', 'DD Colony',\n",
       "       'Patancheru Shankarpalli Road', 'Patancheru', 'Jhangir Pet',\n",
       "       'Almasguda', 'Allwyn Colony', 'financial District',\n",
       "       'Beeramguda Road', 'Pati', 'Karimnagar', 'Kollur Road',\n",
       "       'Sun City Padmasri Estates', 'Chaitanyapuri', 'Nandagiri Hills',\n",
       "       'Whitefield', 'Film Nagar', 'Kismatpur', 'Dr A S Rao Nagar Rd',\n",
       "       'Dullapally', 'KPHB', 'Vivekananda Nagar Colony', 'Ameenpur',\n",
       "       'Chintradripet', 'Ring Road', 'Saket', 'Kavuri Hills', 'manneguda',\n",
       "       'Moti Nagar', 'Usman Nagar', 'Shadnagar', 'Bongloor',\n",
       "       'Mailardevpally', 'Uppalguda', 'Tirumalgiri', 'Chikkadapally',\n",
       "       'JNTU', 'hyderabad', 'Shamshabad', 'Srisailam Highway',\n",
       "       'Domalguda', 'Lingampalli', 'Residential Flat Machavaram',\n",
       "       'Whisper Valley', 'Tukkuguda Airport View Point Road',\n",
       "       'Santoshnagar', 'Tolichowki', 'Domalguda Road', 'Shankarpalli',\n",
       "       'Kothapet', 'Baghlingampally', 'Picket', 'Safilguda',\n",
       "       'Sikh Village', 'Neredmet', 'Macha Bolarum', 'Kowkur',\n",
       "       'Rakshapuram', 'west venkatapuram', 'Vidyanagar Adikmet',\n",
       "       'Aushapur', 'Old Alwal', 'Secunderabad Railway Station Road',\n",
       "       'Balapur', 'Hastinapur', 'chandrayangutta',\n",
       "       'Balaji Hills Colony Venkatraya Nagar', 'Janachaitanya Colony',\n",
       "       'Gurramguda', 'Paradise Circle'], dtype=object)"
      ]
     },
     "execution_count": 117,
     "metadata": {},
     "output_type": "execute_result"
    }
   ],
   "source": [
    "data['Location'].unique()"
   ]
  },
  {
   "cell_type": "code",
   "execution_count": 119,
   "id": "a6be1762",
   "metadata": {},
   "outputs": [
    {
     "data": {
      "text/plain": [
       "array([162, 132,   9, 118,  70, 212, 107,  87, 139, 158, 103, 124, 180,\n",
       "        39,   1, 177, 142, 130, 155,  19, 228,  85,  33, 111, 206,  81,\n",
       "       175, 151, 120, 138, 134, 113, 197, 221, 131, 184,  37, 145,  24,\n",
       "       216, 121, 211, 106,  80, 201,  11,  99, 218,  79, 194,  59, 114,\n",
       "        30, 241, 148,  48,  68,  14,  71, 199, 129, 141,  94, 225, 112,\n",
       "        76, 152, 117,  42, 233, 126,  74,  51,  53, 154,  45,  32,  40,\n",
       "       205, 159,  16,  10, 224, 147,  73,  98, 150,  15, 182, 181, 192,\n",
       "        97,  43, 101,  72, 220,  49,  84, 189,  52,  86,  65,  67,  66,\n",
       "       183, 186, 213, 133,  96, 179, 167, 170,  22, 238, 176, 232, 157,\n",
       "       109,  25, 164,   5,  17, 135, 178, 166,  82, 165, 149,   4, 140,\n",
       "        13,   0, 104, 137,  58, 208, 136, 144,  46,  75,  26, 119,  18,\n",
       "        35, 127,  27, 239,  21, 209,  88,  23, 153,  89, 187,   6, 168,\n",
       "       161, 125, 143, 240, 108,  78, 214,  55,  90,  56,  57, 172, 171,\n",
       "        93,   8,   7, 235,  38, 173, 100, 110, 210,  47, 230, 105,  63,\n",
       "        64,  95, 227,  12,  54, 190, 193, 237, 146, 223, 200,  44, 128,\n",
       "       222, 215,  50,  91, 236,  61, 122, 188, 229, 219, 196, 217,  62,\n",
       "       203, 115,  28, 174, 191, 204, 160, 123, 116, 185, 242, 226,  20,\n",
       "       163, 198,  31,  83, 234,  29,  60,  92,  77, 169])"
      ]
     },
     "execution_count": 119,
     "metadata": {},
     "output_type": "execute_result"
    }
   ],
   "source": [
    "result['Location'].unique()"
   ]
  },
  {
   "cell_type": "code",
   "execution_count": 120,
   "id": "c1bf09f5",
   "metadata": {},
   "outputs": [],
   "source": [
    "Locations = ['Nizampet', 'Hitech City', 'Manikonda', 'Alwal', 'Kukatpally',\n",
    "       'Gachibowli', 'Tellapur', 'Kokapet', 'Hyder Nagar', 'Mehdipatnam',\n",
    "       'Narsingi', 'Khajaguda Nanakramguda Road', 'Madhapur',\n",
    "       'Puppalaguda', 'Begumpet', 'Banjara Hills', 'AS Rao Nagar',\n",
    "       'Pragathi Nagar Kukatpally', 'Miyapur', 'Mallampet',\n",
    "       'Nanakramguda', 'Attapur', 'West Marredpally', 'Kompally',\n",
    "       'Sri Nagar Colony', 'Hakimpet', 'Pocharam', 'Nagole', 'LB Nagar',\n",
    "       'Meerpet', 'Kachiguda', 'Masab Tank', 'Kondapur', 'Saroornagar',\n",
    "       'Uppal Kalan', 'Mallapur', 'Rajendra Nagar', 'Beeramguda',\n",
    "       'Moosapet', 'Bachupally', 'Toli Chowki', 'Lakdikapul', 'Tarnaka',\n",
    "       'Kistareddypet', 'Hafeezpet', 'Shaikpet', 'Amberpet', 'Kapra',\n",
    "       'Trimalgherry', 'Habsiguda', 'Sanath Nagar', 'Darga Khaliz Khan',\n",
    "       'Kothaguda', 'Balanagar', 'Jubilee Hills', 'raidurgam',\n",
    "       'Murad Nagar', 'Chandanagar', 'East Marredpally', 'Aminpur',\n",
    "       'Gajularamaram', 'Serilingampally', 'Malkajgiri', 'Mettuguda',\n",
    "       'Venkat Nagar Colony', 'Kondakal', 'Gopanpally', 'Somajiguda',\n",
    "       'Nallagandla Gachibowli', 'Krishna Reddy Pet', 'Bolarum',\n",
    "       'Zamistanpur', 'Madhura Nagar', 'Ghansi Bazaar', 'Chintalakunta',\n",
    "       'Chinthal Basthi', 'Nallakunta', 'Bowenpally', 'Bandlaguda Jagir',\n",
    "       'Boduppal', 'Neknampur', 'Appa Junction Peerancheru',\n",
    "       'Ambedkar Nagar', 'Vanasthalipuram', 'Moula Ali', 'Gandipet',\n",
    "       'Nacharam', 'Appa Junction', 'Qutub Shahi Tombs', 'Abids',\n",
    "       'Dilsukh Nagar', 'Quthbullapur', 'Sainikpuri', 'KTR Colony',\n",
    "       'Bollaram', 'Karmanghat', 'Gajulramaram Kukatpally', 'Uppal',\n",
    "       'Cherlapalli', 'Himayat Nagar', 'Rhoda Mistri Nagar', 'Chintalmet',\n",
    "       'Hitex Road', 'ECIL', 'Boiguda', 'ECIL Main Road',\n",
    "       'ECIL Cross Road', 'Rajbhavan Road Somajiguda',\n",
    "       'Ramachandra Puram', 'TellapurOsman Nagar Road', 'Mansoorabad',\n",
    "       'KRCR Colony Road', 'Pragati Nagar', 'Padmarao Nagar',\n",
    "       'Paramount Colony Toli Chowki', 'BK Guda Internal Road',\n",
    "       'muthangi', 'Pragathi Nagar', 'Yapral', 'Narayanguda', 'Kollur',\n",
    "       'Bachupally Road', 'Old Bowenpally', 'Alapathi Nagar',\n",
    "       'Arvind Nagar Colony', 'Matrusri Nagar', 'Pragathi Nagar Road',\n",
    "       'Padma Colony', 'Happy Homes Colony', 'Old Nallakunta',\n",
    "       'Sangeet Nagar', 'NRSA Colony', 'Adibatla', 'Methodist Colony',\n",
    "       'Ameerpet', 'ALIND Employees Colony', 'Khizra Enclave', 'Medchal',\n",
    "       'Dammaiguda', 'Suchitra', 'Whitefields', 'Mayuri Nagar',\n",
    "       'Adda Gutta', 'Miyapur HMT Swarnapuri Colony',\n",
    "       'Central Excise Colony Hyderabad', 'Basheer Bagh', 'Gopal Nagar',\n",
    "       'Bachupaly Road Miyapur', 'Kushaiguda', 'Ashok Nagar',\n",
    "       'Barkatpura', 'Madinaguda', 'Bagh Amberpet', 'new nallakunta',\n",
    "       'BHEL', 'Sun City', 'Hydershakote', 'BK Guda Road',\n",
    "       'Nallagandla Road', 'IDPL Colony', 'Ramnagar Gundu',\n",
    "       'Alkapur township', 'Banjara Hills Road Number 12',\n",
    "       'Panchavati Colony Manikonda', 'New Maruthi Nagar',\n",
    "       'Madhavaram Nagar Colony', 'Miyapur Bachupally Road',\n",
    "       'nizampet road', 'Kokapeta Village', 'HMT Hills', 'Tilak Nagar',\n",
    "       'Chititra Medchal', 'Isnapur', 'D D Colony', 'DD Colony',\n",
    "       'Patancheru Shankarpalli Road', 'Patancheru', 'Jhangir Pet',\n",
    "       'Almasguda', 'Allwyn Colony', 'financial District',\n",
    "       'Beeramguda Road', 'Pati', 'Karimnagar', 'Kollur Road',\n",
    "       'Sun City Padmasri Estates', 'Chaitanyapuri', 'Nandagiri Hills',\n",
    "       'Whitefield', 'Film Nagar', 'Kismatpur', 'Dr A S Rao Nagar Rd',\n",
    "       'Dullapally', 'KPHB', 'Vivekananda Nagar Colony', 'Ameenpur',\n",
    "       'Chintradripet', 'Ring Road', 'Saket', 'Kavuri Hills', 'manneguda',\n",
    "       'Moti Nagar', 'Usman Nagar', 'Shadnagar', 'Bongloor',\n",
    "       'Mailardevpally', 'Uppalguda', 'Tirumalgiri', 'Chikkadapally',\n",
    "       'JNTU', 'hyderabad', 'Shamshabad', 'Srisailam Highway',\n",
    "       'Domalguda', 'Lingampalli', 'Residential Flat Machavaram',\n",
    "       'Whisper Valley', 'Tukkuguda Airport View Point Road',\n",
    "       'Santoshnagar', 'Tolichowki', 'Domalguda Road', 'Shankarpalli',\n",
    "       'Kothapet', 'Baghlingampally', 'Picket', 'Safilguda',\n",
    "       'Sikh Village', 'Neredmet', 'Macha Bolarum', 'Kowkur',\n",
    "       'Rakshapuram', 'west venkatapuram', 'Vidyanagar Adikmet',\n",
    "       'Aushapur', 'Old Alwal', 'Secunderabad Railway Station Road',\n",
    "       'Balapur', 'Hastinapur', 'chandrayangutta',\n",
    "       'Balaji Hills Colony Venkatraya Nagar', 'Janachaitanya Colony',\n",
    "       'Gurramguda', 'Paradise Circle']"
   ]
  },
  {
   "cell_type": "code",
   "execution_count": 121,
   "id": "00ddaf50",
   "metadata": {},
   "outputs": [],
   "source": [
    "labels = [162, 132,   9, 118,  70, 212, 107,  87, 139, 158, 103, 124, 180,\n",
    "        39,   1, 177, 142, 130, 155,  19, 228,  85,  33, 111, 206,  81,\n",
    "       175, 151, 120, 138, 134, 113, 197, 221, 131, 184,  37, 145,  24,\n",
    "       216, 121, 211, 106,  80, 201,  11,  99, 218,  79, 194,  59, 114,\n",
    "        30, 241, 148,  48,  68,  14,  71, 199, 129, 141,  94, 225, 112,\n",
    "        76, 152, 117,  42, 233, 126,  74,  51,  53, 154,  45,  32,  40,\n",
    "       205, 159,  16,  10, 224, 147,  73,  98, 150,  15, 182, 181, 192,\n",
    "        97,  43, 101,  72, 220,  49,  84, 189,  52,  86,  65,  67,  66,\n",
    "       183, 186, 213, 133,  96, 179, 167, 170,  22, 238, 176, 232, 157,\n",
    "       109,  25, 164,   5,  17, 135, 178, 166,  82, 165, 149,   4, 140,\n",
    "        13,   0, 104, 137,  58, 208, 136, 144,  46,  75,  26, 119,  18,\n",
    "        35, 127,  27, 239,  21, 209,  88,  23, 153,  89, 187,   6, 168,\n",
    "       161, 125, 143, 240, 108,  78, 214,  55,  90,  56,  57, 172, 171,\n",
    "        93,   8,   7, 235,  38, 173, 100, 110, 210,  47, 230, 105,  63,\n",
    "        64,  95, 227,  12,  54, 190, 193, 237, 146, 223, 200,  44, 128,\n",
    "       222, 215,  50,  91, 236,  61, 122, 188, 229, 219, 196, 217,  62,\n",
    "       203, 115,  28, 174, 191, 204, 160, 123, 116, 185, 242, 226,  20,\n",
    "       163, 198,  31,  83, 234,  29,  60,  92,  77, 169]"
   ]
  },
  {
   "cell_type": "code",
   "execution_count": 122,
   "id": "25ce276a",
   "metadata": {},
   "outputs": [],
   "source": [
    "location_mapping = dict(zip(Locations, labels))"
   ]
  },
  {
   "cell_type": "code",
   "execution_count": 123,
   "id": "19ad340b",
   "metadata": {
    "scrolled": false
   },
   "outputs": [
    {
     "data": {
      "text/plain": [
       "{'Nizampet': 162,\n",
       " 'Hitech City': 132,\n",
       " 'Manikonda': 9,\n",
       " 'Alwal': 118,\n",
       " 'Kukatpally': 70,\n",
       " 'Gachibowli': 212,\n",
       " 'Tellapur': 107,\n",
       " 'Kokapet': 87,\n",
       " 'Hyder Nagar': 139,\n",
       " 'Mehdipatnam': 158,\n",
       " 'Narsingi': 103,\n",
       " 'Khajaguda Nanakramguda Road': 124,\n",
       " 'Madhapur': 180,\n",
       " 'Puppalaguda': 39,\n",
       " 'Begumpet': 1,\n",
       " 'Banjara Hills': 177,\n",
       " 'AS Rao Nagar': 142,\n",
       " 'Pragathi Nagar Kukatpally': 130,\n",
       " 'Miyapur': 155,\n",
       " 'Mallampet': 19,\n",
       " 'Nanakramguda': 228,\n",
       " 'Attapur': 85,\n",
       " 'West Marredpally': 33,\n",
       " 'Kompally': 111,\n",
       " 'Sri Nagar Colony': 206,\n",
       " 'Hakimpet': 81,\n",
       " 'Pocharam': 175,\n",
       " 'Nagole': 151,\n",
       " 'LB Nagar': 120,\n",
       " 'Meerpet': 138,\n",
       " 'Kachiguda': 134,\n",
       " 'Masab Tank': 113,\n",
       " 'Kondapur': 197,\n",
       " 'Saroornagar': 221,\n",
       " 'Uppal Kalan': 131,\n",
       " 'Mallapur': 184,\n",
       " 'Rajendra Nagar': 37,\n",
       " 'Beeramguda': 145,\n",
       " 'Moosapet': 24,\n",
       " 'Bachupally': 216,\n",
       " 'Toli Chowki': 121,\n",
       " 'Lakdikapul': 211,\n",
       " 'Tarnaka': 106,\n",
       " 'Kistareddypet': 80,\n",
       " 'Hafeezpet': 201,\n",
       " 'Shaikpet': 11,\n",
       " 'Amberpet': 99,\n",
       " 'Kapra': 218,\n",
       " 'Trimalgherry': 79,\n",
       " 'Habsiguda': 194,\n",
       " 'Sanath Nagar': 59,\n",
       " 'Darga Khaliz Khan': 114,\n",
       " 'Kothaguda': 30,\n",
       " 'Balanagar': 241,\n",
       " 'Jubilee Hills': 148,\n",
       " 'raidurgam': 48,\n",
       " 'Murad Nagar': 68,\n",
       " 'Chandanagar': 14,\n",
       " 'East Marredpally': 71,\n",
       " 'Aminpur': 199,\n",
       " 'Gajularamaram': 129,\n",
       " 'Serilingampally': 141,\n",
       " 'Malkajgiri': 94,\n",
       " 'Mettuguda': 225,\n",
       " 'Venkat Nagar Colony': 112,\n",
       " 'Kondakal': 76,\n",
       " 'Gopanpally': 152,\n",
       " 'Somajiguda': 117,\n",
       " 'Nallagandla Gachibowli': 42,\n",
       " 'Krishna Reddy Pet': 233,\n",
       " 'Bolarum': 126,\n",
       " 'Zamistanpur': 74,\n",
       " 'Madhura Nagar': 51,\n",
       " 'Ghansi Bazaar': 53,\n",
       " 'Chintalakunta': 154,\n",
       " 'Chinthal Basthi': 45,\n",
       " 'Nallakunta': 32,\n",
       " 'Bowenpally': 40,\n",
       " 'Bandlaguda Jagir': 205,\n",
       " 'Boduppal': 159,\n",
       " 'Neknampur': 16,\n",
       " 'Appa Junction Peerancheru': 10,\n",
       " 'Ambedkar Nagar': 224,\n",
       " 'Vanasthalipuram': 147,\n",
       " 'Moula Ali': 73,\n",
       " 'Gandipet': 98,\n",
       " 'Nacharam': 150,\n",
       " 'Appa Junction': 15,\n",
       " 'Qutub Shahi Tombs': 182,\n",
       " 'Abids': 181,\n",
       " 'Dilsukh Nagar': 192,\n",
       " 'Quthbullapur': 97,\n",
       " 'Sainikpuri': 43,\n",
       " 'KTR Colony': 101,\n",
       " 'Bollaram': 72,\n",
       " 'Karmanghat': 220,\n",
       " 'Gajulramaram Kukatpally': 49,\n",
       " 'Uppal': 84,\n",
       " 'Cherlapalli': 189,\n",
       " 'Himayat Nagar': 52,\n",
       " 'Rhoda Mistri Nagar': 86,\n",
       " 'Chintalmet': 65,\n",
       " 'Hitex Road': 67,\n",
       " 'ECIL': 66,\n",
       " 'Boiguda': 183,\n",
       " 'ECIL Main Road': 186,\n",
       " 'ECIL Cross Road': 213,\n",
       " 'Rajbhavan Road Somajiguda': 133,\n",
       " 'Ramachandra Puram': 96,\n",
       " 'TellapurOsman Nagar Road': 179,\n",
       " 'Mansoorabad': 167,\n",
       " 'KRCR Colony Road': 170,\n",
       " 'Pragati Nagar': 22,\n",
       " 'Padmarao Nagar': 238,\n",
       " 'Paramount Colony Toli Chowki': 176,\n",
       " 'BK Guda Internal Road': 232,\n",
       " 'muthangi': 157,\n",
       " 'Pragathi Nagar': 109,\n",
       " 'Yapral': 25,\n",
       " 'Narayanguda': 164,\n",
       " 'Kollur': 5,\n",
       " 'Bachupally Road': 17,\n",
       " 'Old Bowenpally': 135,\n",
       " 'Alapathi Nagar': 178,\n",
       " 'Arvind Nagar Colony': 166,\n",
       " 'Matrusri Nagar': 82,\n",
       " 'Pragathi Nagar Road': 165,\n",
       " 'Padma Colony': 149,\n",
       " 'Happy Homes Colony': 4,\n",
       " 'Old Nallakunta': 140,\n",
       " 'Sangeet Nagar': 13,\n",
       " 'NRSA Colony': 0,\n",
       " 'Adibatla': 104,\n",
       " 'Methodist Colony': 137,\n",
       " 'Ameerpet': 58,\n",
       " 'ALIND Employees Colony': 208,\n",
       " 'Khizra Enclave': 136,\n",
       " 'Medchal': 144,\n",
       " 'Dammaiguda': 46,\n",
       " 'Suchitra': 75,\n",
       " 'Whitefields': 26,\n",
       " 'Mayuri Nagar': 119,\n",
       " 'Adda Gutta': 18,\n",
       " 'Miyapur HMT Swarnapuri Colony': 35,\n",
       " 'Central Excise Colony Hyderabad': 127,\n",
       " 'Basheer Bagh': 27,\n",
       " 'Gopal Nagar': 239,\n",
       " 'Bachupaly Road Miyapur': 21,\n",
       " 'Kushaiguda': 209,\n",
       " 'Ashok Nagar': 88,\n",
       " 'Barkatpura': 23,\n",
       " 'Madinaguda': 153,\n",
       " 'Bagh Amberpet': 89,\n",
       " 'new nallakunta': 187,\n",
       " 'BHEL': 6,\n",
       " 'Sun City': 168,\n",
       " 'Hydershakote': 161,\n",
       " 'BK Guda Road': 125,\n",
       " 'Nallagandla Road': 143,\n",
       " 'IDPL Colony': 240,\n",
       " 'Ramnagar Gundu': 108,\n",
       " 'Alkapur township': 78,\n",
       " 'Banjara Hills Road Number 12': 214,\n",
       " 'Panchavati Colony Manikonda': 55,\n",
       " 'New Maruthi Nagar': 90,\n",
       " 'Madhavaram Nagar Colony': 56,\n",
       " 'Miyapur Bachupally Road': 57,\n",
       " 'nizampet road': 172,\n",
       " 'Kokapeta Village': 171,\n",
       " 'HMT Hills': 93,\n",
       " 'Tilak Nagar': 8,\n",
       " 'Chititra Medchal': 7,\n",
       " 'Isnapur': 235,\n",
       " 'D D Colony': 38,\n",
       " 'DD Colony': 173,\n",
       " 'Patancheru Shankarpalli Road': 100,\n",
       " 'Patancheru': 110,\n",
       " 'Jhangir Pet': 210,\n",
       " 'Almasguda': 47,\n",
       " 'Allwyn Colony': 230,\n",
       " 'financial District': 105,\n",
       " 'Beeramguda Road': 63,\n",
       " 'Pati': 64,\n",
       " 'Karimnagar': 95,\n",
       " 'Kollur Road': 227,\n",
       " 'Sun City Padmasri Estates': 12,\n",
       " 'Chaitanyapuri': 54,\n",
       " 'Nandagiri Hills': 190,\n",
       " 'Whitefield': 193,\n",
       " 'Film Nagar': 237,\n",
       " 'Kismatpur': 146,\n",
       " 'Dr A S Rao Nagar Rd': 223,\n",
       " 'Dullapally': 200,\n",
       " 'KPHB': 44,\n",
       " 'Vivekananda Nagar Colony': 128,\n",
       " 'Ameenpur': 222,\n",
       " 'Chintradripet': 215,\n",
       " 'Ring Road': 50,\n",
       " 'Saket': 91,\n",
       " 'Kavuri Hills': 236,\n",
       " 'manneguda': 61,\n",
       " 'Moti Nagar': 122,\n",
       " 'Usman Nagar': 188,\n",
       " 'Shadnagar': 229,\n",
       " 'Bongloor': 219,\n",
       " 'Mailardevpally': 196,\n",
       " 'Uppalguda': 217,\n",
       " 'Tirumalgiri': 62,\n",
       " 'Chikkadapally': 203,\n",
       " 'JNTU': 115,\n",
       " 'hyderabad': 28,\n",
       " 'Shamshabad': 174,\n",
       " 'Srisailam Highway': 191,\n",
       " 'Domalguda': 204,\n",
       " 'Lingampalli': 160,\n",
       " 'Residential Flat Machavaram': 123,\n",
       " 'Whisper Valley': 116,\n",
       " 'Tukkuguda Airport View Point Road': 185,\n",
       " 'Santoshnagar': 242,\n",
       " 'Tolichowki': 226,\n",
       " 'Domalguda Road': 20,\n",
       " 'Shankarpalli': 163,\n",
       " 'Kothapet': 198,\n",
       " 'Baghlingampally': 31,\n",
       " 'Picket': 83,\n",
       " 'Safilguda': 234,\n",
       " 'Sikh Village': 29,\n",
       " 'Neredmet': 60,\n",
       " 'Macha Bolarum': 92,\n",
       " 'Kowkur': 77,\n",
       " 'Rakshapuram': 169}"
      ]
     },
     "execution_count": 123,
     "metadata": {},
     "output_type": "execute_result"
    }
   ],
   "source": [
    "location_mapping"
   ]
  },
  {
   "cell_type": "code",
   "execution_count": 136,
   "id": "afc0f3d9",
   "metadata": {},
   "outputs": [],
   "source": [
    "text_location = 'Lingampalli'\n",
    "\n",
    "label_encoded_location = location_mapping.get(text_location, -1)\n"
   ]
  },
  {
   "cell_type": "code",
   "execution_count": 137,
   "id": "a68d5301",
   "metadata": {},
   "outputs": [
    {
     "name": "stdout",
     "output_type": "stream",
     "text": [
      "The price of the house is $ 7206980.0\n"
     ]
    }
   ],
   "source": [
    "# Predicting the price using random forest regression\n",
    "\n",
    "\n",
    "label_encoded_location = location_mapping.get(text_location, -1)\n",
    "\n",
    "# Check if the location exists in the mapping\n",
    "if label_encoded_location == -1:\n",
    "    print(\"Location not found in the mapping\")\n",
    "else:\n",
    "    price = model.predict([[1500, 5, label_encoded_location]])\n",
    "    print('The price of the house is $', price[0])\n",
    "\n",
    "    "
   ]
  }
 ],
 "metadata": {
  "kernelspec": {
   "display_name": "Python 3 (ipykernel)",
   "language": "python",
   "name": "python3"
  },
  "language_info": {
   "codemirror_mode": {
    "name": "ipython",
    "version": 3
   },
   "file_extension": ".py",
   "mimetype": "text/x-python",
   "name": "python",
   "nbconvert_exporter": "python",
   "pygments_lexer": "ipython3",
   "version": "3.9.13"
  }
 },
 "nbformat": 4,
 "nbformat_minor": 5
}
